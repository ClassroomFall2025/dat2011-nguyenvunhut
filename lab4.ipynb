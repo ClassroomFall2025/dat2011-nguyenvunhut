{
 "cells": [
  {
   "cell_type": "markdown",
   "id": "fdeff819",
   "metadata": {},
   "source": [
    "# Sinh Viên thực hiện Lab 4 ở Đây"
   ]
  },
  {
   "cell_type": "markdown",
   "id": "acc5d7dc",
   "metadata": {},
   "source": [
    "## Lab 1 - Bài 1\n",
    "Viết một hàm để tính tiền nước sinh hoạt theo phương pháp lũy tiến. Tham só truyền vào hàm là số khối nước sử dụng trong tháng."
   ]
  },
  {
   "cell_type": "code",
   "execution_count": null,
   "id": "001e0507",
   "metadata": {},
   "outputs": [
    {
     "name": "stdout",
     "output_type": "stream",
     "text": [
      "1.231.147.000 ₫\n"
     ]
    }
   ],
   "source": [
    "import locale\n",
    "\n",
    "locale.setlocale(locale.LC_ALL, 'vi_VN.UTF-8')\n",
    "\n",
    "water_prices = (7500, 8800, 12000, 24000)\n",
    "\n",
    "def safe_input_float(prompt: str) -> float:\n",
    "    while True:\n",
    "        try:\n",
    "            return float(input(prompt))\n",
    "        except ValueError:\n",
    "            print(\"The input is invalid!, please reinput: \")\n",
    "\n",
    "def water_bill(volume:float, water_prices:tuple) -> float:\n",
    "\n",
    "    if volume > 30:\n",
    "        return 10 * water_prices[0] + 10 * water_prices[1] + 10 * water_prices[2] + (volume - 30) * water_prices[3]\n",
    "    elif volume > 20:\n",
    "        return 10 * water_prices[0] + 10 * water_prices[1] + (volume - 20) * water_prices[2]\n",
    "    elif volume > 10:\n",
    "        return 10 * water_prices[0] + (volume - 10) * water_prices[1]\n",
    "    else:\n",
    "        return volume * water_prices[0]\n",
    "    \n",
    "volume = safe_input_float(\"Enter your water usage: \")\n",
    "\n",
    "\n",
    "#print(f\"{water_bill(volume, water_prices):,.2f}\")\n",
    "print(locale.currency(water_bill(volume, water_prices), grouping=True))\n"
   ]
  },
  {
   "cell_type": "markdown",
   "id": "c0835310",
   "metadata": {},
   "source": [
    "## Lab 4 - Bài 2\n",
    "Chương trình tính nguyên liệu cần thiết để làm 1 bánh"
   ]
  },
  {
   "cell_type": "code",
   "execution_count": 11,
   "id": "fa9cb39f",
   "metadata": {},
   "outputs": [
    {
     "name": "stdout",
     "output_type": "stream",
     "text": [
      "Lượng nguyên liệu cần dùng là: {'sugars': 253.5, 'beans': 435.93000000000006}\n"
     ]
    }
   ],
   "source": [
    "\n",
    "def  safe_input_int(prompt: str) -> int:\n",
    "    while True:\n",
    "        try:\n",
    "            return int(input(prompt))\n",
    "        except ValueError:\n",
    "            print(\"Vui lòng nhập đúng số lượng!\")\n",
    "\n",
    "def ingredient_cal() -> dict:\n",
    "    sugars = {\"dau xanh\": 0.04, \"thap cam\": 0.06, \"deo\": 0.05}\n",
    "    beans = {\"dau xanh\": 0.07, \"thap cam\": 0.0, \"deo\": 0.02}\n",
    "    cake_number = {}\n",
    "    # Nhập và lưu số lượng bánh vào một dict\n",
    "    for cake in sugars.keys():\n",
    "        cake_number[cake] = safe_input_int(f\"Nhập vào số lượng bánh {cake}: \")\n",
    "\n",
    "    # Tính tổng đường và đậu dựa trên cake_number và sugar và beans đã cho\n",
    "    total_sugars = sum(cake_number[cake] * sugars[cake] for cake in sugars)\n",
    "    total_beans = sum(cake_number[cake] * beans[cake] for cake in beans)\n",
    "\n",
    "    return {\"sugars\": total_sugars, \"beans\": total_beans}\n",
    "\n",
    "print(f\"Lượng nguyên liệu cần dùng là: {ingredient_cal()}\")"
   ]
  },
  {
   "cell_type": "markdown",
   "id": "0f2483fe",
   "metadata": {},
   "source": [
    "## Lab 4 - Bài 3\n",
    "Nhập vào một dãy số nguyên từ bàn phím. Sử dụng hàm lamda để lọc ra các số chẵn từ dãy số. Xuất kết quả ra màn hình."
   ]
  },
  {
   "cell_type": "code",
   "execution_count": 6,
   "id": "7034990b",
   "metadata": {},
   "outputs": [
    {
     "name": "stdout",
     "output_type": "stream",
     "text": [
      "Nhập 's' để dừng nhập số nguyên mới\n",
      "Vui lòng nhập đúng kiểu số nguyên!\n",
      "Hoặc nhập 's' để dừng nhập số nguyên mới!\n",
      "Dãy số ban đầu: [351, 53, 2, 2, 22, 4, 736]\n",
      "Dãy số sau khi lọc: [2, 2, 22, 4, 736]\n"
     ]
    }
   ],
   "source": [
    "def safe_input_int(prompt: str):\n",
    "    while True:\n",
    "        value = input(prompt).strip()\n",
    "        if value.lower() == 's':\n",
    "            return None\n",
    "        try:\n",
    "            return int(value)\n",
    "        except ValueError:\n",
    "            print(\"Vui lòng nhập đúng kiểu số nguyên!\\nHoặc nhập 's' để dừng nhập số nguyên mới!\")\n",
    "\n",
    "def create_int_list() -> list:\n",
    "    int_list = []\n",
    "    print(\"Nhập 's' để dừng nhập số nguyên mới\")\n",
    "    while True:\n",
    "        new_int = safe_input_int(\"Nhập vào một số nguyên mới: \")\n",
    "        if new_int is None:\n",
    "            return int_list\n",
    "        int_list.append(new_int)\n",
    "my_list = create_int_list()\n",
    "new_list = list(filter(lambda x: (x%2 == 0), my_list))\n",
    "print(f\"Dãy số ban đầu: {my_list}\")\n",
    "print(f\"Dãy số sau khi lọc: {new_list}\")\n"
   ]
  },
  {
   "cell_type": "markdown",
   "id": "d36ea3d3",
   "metadata": {},
   "source": [
    "## Lab 4 - Bài 4"
   ]
  },
  {
   "cell_type": "code",
   "execution_count": 19,
   "id": "4c707ec1",
   "metadata": {},
   "outputs": [
    {
     "name": "stdout",
     "output_type": "stream",
     "text": [
      "------------------------------------------------------------\n",
      "1. Tính tiền nước sinh hoạt\n",
      "2. Tính nguyên liệu làm bánh\n",
      "3. Xuất ra màn hình dãy số chẵn\n",
      "4. Kết thúc\n",
      "------------------------------------------------------------\n",
      "2.947.000 ₫\n",
      "------------------------------------------------------------\n",
      "1. Tính tiền nước sinh hoạt\n",
      "2. Tính nguyên liệu làm bánh\n",
      "3. Xuất ra màn hình dãy số chẵn\n",
      "4. Kết thúc\n",
      "------------------------------------------------------------\n",
      "Số lượng nguyên liệu cần thiết là: {'sugars': 9.06, 'beans': 5.91}\n",
      "------------------------------------------------------------\n",
      "1. Tính tiền nước sinh hoạt\n",
      "2. Tính nguyên liệu làm bánh\n",
      "3. Xuất ra màn hình dãy số chẵn\n",
      "4. Kết thúc\n",
      "------------------------------------------------------------\n",
      "Nhập 's' để dừng nhập số nguyên mới\n",
      "Dãy số ban đầu là: [51, 3, 4, 3, 7, 3, 4, 62, 29, 54]\n",
      "Dãy số sau khi lọc là: [4, 4, 62, 54]\n",
      "------------------------------------------------------------\n",
      "1. Tính tiền nước sinh hoạt\n",
      "2. Tính nguyên liệu làm bánh\n",
      "3. Xuất ra màn hình dãy số chẵn\n",
      "4. Kết thúc\n",
      "------------------------------------------------------------\n",
      "Thank you!\n"
     ]
    }
   ],
   "source": [
    "import modul_lab4 as md\n",
    "import locale\n",
    "\n",
    "MENU = (\n",
    "    \"Tính tiền nước sinh hoạt\",\n",
    "    \"Tính nguyên liệu làm bánh\",\n",
    "    \"Xuất ra màn hình dãy số chẵn\",\n",
    "    \"Kết thúc\"\n",
    ")\n",
    "\n",
    "def choose_menu () -> int:\n",
    "    print('-' * 60)\n",
    "    for i, menu in enumerate(MENU, start=1):\n",
    "        print(f\"{i}. {menu}\")\n",
    "    print('-' * 60)\n",
    "    return md.safe_input_int(\"Chọn chức năng: \")\n",
    "\n",
    "while True:\n",
    "    choose = choose_menu()\n",
    "    match choose:\n",
    "        case 1:\n",
    "            volume = md.safe_input_float(\"Enter your water usage: \")\n",
    "            print(f\"{locale.currency(md.water_bill(volume, md.water_prices), grouping=True)}\")\n",
    "        case 2:\n",
    "            print(f\"Số lượng nguyên liệu cần thiết là: {md.ingredient_cal()}\")\n",
    "        case 3:\n",
    "            my_list = md.create_int_list()\n",
    "            new_list = list(filter(lambda x: (x%2 == 0), my_list))\n",
    "            print(f\"Dãy số ban đầu là: {my_list}\")\n",
    "            print(f\"Dãy số sau khi lọc là: {new_list}\")\n",
    "        case 4:\n",
    "            print(\"Thank you!\")\n",
    "            break\n",
    "        case _:\n",
    "            print(\"Chức nắng không tồn tại, vui lòng chọn lại!\")\n",
    "        \n"
   ]
  },
  {
   "cell_type": "markdown",
   "id": "e2b41d4a",
   "metadata": {},
   "source": [
    "## Lab 4 - Bài 5: bài tập làm thêm"
   ]
  },
  {
   "cell_type": "code",
   "execution_count": 19,
   "id": "0e0172f7",
   "metadata": {},
   "outputs": [
    {
     "name": "stdout",
     "output_type": "stream",
     "text": [
      "\n",
      "--- Simple calculator ---\n",
      "1. Phép tính cơ bản\n",
      "2. Lũy thừa\n",
      "3. Căn bậc hai\n",
      "4. Hàm lượng giác\n",
      "5. Logarit\n",
      "6. Tìm số lớn nhất trong ba số\n",
      "7. Giải phương trình bậc 2\n",
      "8. Thời gian hiện tại\n",
      "9. Hiển thị lịch sử tính toán\n",
      "10. Thoát chương trình\n"
     ]
    },
    {
     "name": "stdout",
     "output_type": "stream",
     "text": [
      "\n",
      "--- Simple calculator ---\n",
      "1. Phép tính cơ bản\n",
      "2. Lũy thừa\n",
      "3. Căn bậc hai\n",
      "4. Hàm lượng giác\n",
      "5. Logarit\n",
      "6. Tìm số lớn nhất trong ba số\n",
      "7. Giải phương trình bậc 2\n",
      "8. Thời gian hiện tại\n",
      "9. Hiển thị lịch sử tính toán\n",
      "10. Thoát chương trình\n",
      "√231.0 = 15.198684153570664\n",
      "\n",
      "--- Simple calculator ---\n",
      "1. Phép tính cơ bản\n",
      "2. Lũy thừa\n",
      "3. Căn bậc hai\n",
      "4. Hàm lượng giác\n",
      "5. Logarit\n",
      "6. Tìm số lớn nhất trong ba số\n",
      "7. Giải phương trình bậc 2\n",
      "8. Thời gian hiện tại\n",
      "9. Hiển thị lịch sử tính toán\n",
      "10. Thoát chương trình\n",
      "--- Giải phương trình bậc 2 ---\n",
      "Phương trình có 2 nghiệm thực phân biệt:\n",
      "x1 = -0.42264973081037427\n",
      "x2 = -1.5773502691896255\n",
      "\n",
      "--- Simple calculator ---\n",
      "1. Phép tính cơ bản\n",
      "2. Lũy thừa\n",
      "3. Căn bậc hai\n",
      "4. Hàm lượng giác\n",
      "5. Logarit\n",
      "6. Tìm số lớn nhất trong ba số\n",
      "7. Giải phương trình bậc 2\n",
      "8. Thời gian hiện tại\n",
      "9. Hiển thị lịch sử tính toán\n",
      "10. Thoát chương trình\n",
      "\n",
      "--- Calculation History ---\n",
      "STT   Phép tính                      Input                          Output                        \n",
      "------------------------------------------------------------------------------------------------------------------------\n",
      "1     Căn bậc hai                    231.0                          √231.0 = 15.198684153570664   \n",
      "2     Giải phương trình bậc 2        3.0, 6.0, 2.0                  Phương trình có 2 nghiệm thực phân biệt:\n",
      "x1 = -0.42264973081037427\n",
      "x2 = -1.5773502691896255\n",
      "\n",
      "--- Simple calculator ---\n",
      "1. Phép tính cơ bản\n",
      "2. Lũy thừa\n",
      "3. Căn bậc hai\n",
      "4. Hàm lượng giác\n",
      "5. Logarit\n",
      "6. Tìm số lớn nhất trong ba số\n",
      "7. Giải phương trình bậc 2\n",
      "8. Thời gian hiện tại\n",
      "9. Hiển thị lịch sử tính toán\n",
      "10. Thoát chương trình\n",
      "Chào tạm biệt!\n"
     ]
    }
   ],
   "source": [
    "import module_lab4_bai5 as md\n",
    "import math\n",
    "import datetime\n",
    "\n",
    "history = []\n",
    "\n",
    "while True:\n",
    "    choose = md.chon_phep_tinh()\n",
    "    match choose:\n",
    "        case 1:\n",
    "            print(\"\\n--- 1. Phép tính cơ bản ---\")\n",
    "            x, y = md.nhap_so()\n",
    "            out1 = f\"{x} + {y} = {x + y}\"\n",
    "            out2 = f\"{x} - {y} = {x - y}\"\n",
    "            out3 = f\"{x} * {y} = {x * y}\"\n",
    "            out4 = f\"{x} / {y} = {x / y}\" if y != 0 else \"Không thể chia cho 0\"\n",
    "            print(out1, out2, out3, out4, sep=\"\\n\")\n",
    "            md.input_history(history, \"Phép tính cơ bản\", f\"{x}, {y}\", f\"{out1}, {out2}, {out3}, {out4}\")\n",
    "\n",
    "        case 2:\n",
    "            x, y = md.nhap_so()\n",
    "            out = f\"{x}^{y} = {x ** y}\"\n",
    "            print(out)\n",
    "            md.input_history(history, \"Lũy thừa\", f\"{x}, {y}\", out)\n",
    "\n",
    "        case 3:\n",
    "            x = md.safe_float_input(\"Nhập số cần tính: \")\n",
    "            out = f\"√{x} = {math.sqrt(x) if x >= 0 else cmath.sqrt(x)}\"\n",
    "            print(out)\n",
    "            md.input_history(history, \"Căn bậc hai\", str(x), out)\n",
    "\n",
    "        case 4:\n",
    "            x = md.safe_float_input(\"Nhập số cần tính (radian): \")\n",
    "            out1 = f\"sin({x}) = {math.sin(x)}\"\n",
    "            out2 = f\"cos({x}) = {math.cos(x)}\"\n",
    "            out3 = f\"tan({x}) = {math.tan(x)}\"\n",
    "            print(out1, out2, out3, sep=\"\\n\")\n",
    "            md.input_history(history, \"Hàm lượng giác\", str(x), f\"{out1}, {out2}, {out3}\")\n",
    "\n",
    "        case 5:\n",
    "            sub_log = int(input(\"1. Log10 & ln | 2. Log cơ số tùy chọn: \"))\n",
    "            if sub_log == 1:\n",
    "                x = md.safe_float_input(\"Nhập số cần tính: \")\n",
    "                out1 = f\"log10({x}) = {math.log10(x)}\" if x > 0 else \"Không thể tính logarit của số không dương\"\n",
    "                out2 = f\"ln({x}) = {math.log(x)}\" if x > 0 else \"\"\n",
    "                print(out1, out2, sep=\"\\n\")\n",
    "                md.input_history(history, \"Logarit (log10, ln)\", str(x), f\"{out1}, {out2}\")\n",
    "            elif sub_log == 2:\n",
    "                x, y = md.nhap_so()\n",
    "                out = f\"log cơ số {y} ({x}) = {math.log(x, y)}\" if x > 0 and y > 0 and y != 1 else \"Cơ số log không hợp lệ\"\n",
    "                print(out)\n",
    "                md.input_history(history, \"Logarit cơ số tùy chọn\", f\"{x}, {y}\", out)\n",
    "\n",
    "        case 6:\n",
    "            print(\"--- Tìm số lớn nhất trong 3 số ---\")\n",
    "            a = float(input(\"Nhập số thứ nhất: \"))\n",
    "            b = float(input(\"Nhập số thứ hai: \"))\n",
    "            c = float(input(\"Nhập số thứ ba: \"))\n",
    "\n",
    "            max_value = a \n",
    "            if b > max_value:\n",
    "                max_value = b\n",
    "            if c > max_value:\n",
    "                max_value = c\n",
    "            out = f\"Số lớn nhất là số: {max_value}\"\n",
    "            print(out)\n",
    "            md.input_history(history, \"Tìm số lớn nhất trong ba số\", f\"{a}, {b}, {c}\", out)\n",
    "\n",
    "        case 7:\n",
    "            print(\"--- Giải phương trình bậc 2 ---\")\n",
    "            a, b, c = md.get_coefficients()\n",
    "            out = md.solve_quadratic(a, b, c)\n",
    "            print(out)\n",
    "            md.input_history(history, \"Giải phương trình bậc 2\", f\"{a}, {b}, {c}\", str(out))\n",
    "\n",
    "        case 8:\n",
    "            now = datetime.now()\n",
    "            out = f\"Thời gian hiện tại là: {now}\"\n",
    "            print(out)\n",
    "            md.input_history(history, \"Thời gian hiện tại\", \"\", out)\n",
    "\n",
    "        case 9:\n",
    "            md.print_history(history)\n",
    "\n",
    "        case 10:\n",
    "            print(\"Chào tạm biệt!\")\n",
    "            break\n",
    "        case _:\n",
    "            print(\"Lựa chọn không hợp lệ.\")"
   ]
  },
  {
   "cell_type": "code",
   "execution_count": 21,
   "id": "7dcb72d3",
   "metadata": {},
   "outputs": [
    {
     "ename": "KeyError",
     "evalue": "1",
     "output_type": "error",
     "traceback": [
      "\u001b[31m---------------------------------------------------------------------------\u001b[39m",
      "\u001b[31mKeyError\u001b[39m                                  Traceback (most recent call last)",
      "\u001b[36mCell\u001b[39m\u001b[36m \u001b[39m\u001b[32mIn[21]\u001b[39m\u001b[32m, line 3\u001b[39m\n\u001b[32m      1\u001b[39m my_dict = {\u001b[33m\"\u001b[39m\u001b[33mten\u001b[39m\u001b[33m\"\u001b[39m: \u001b[33m\"\u001b[39m\u001b[33mNhut\u001b[39m\u001b[33m\"\u001b[39m, \u001b[33m\"\u001b[39m\u001b[33mage\u001b[39m\u001b[33m\"\u001b[39m: \u001b[32m99\u001b[39m, \u001b[33m\"\u001b[39m\u001b[33mnghe nghiep\u001b[39m\u001b[33m\"\u001b[39m: \u001b[33m\"\u001b[39m\u001b[33mdev\u001b[39m\u001b[33m\"\u001b[39m}\n\u001b[32m----> \u001b[39m\u001b[32m3\u001b[39m \u001b[43mmy_dict\u001b[49m\u001b[43m[\u001b[49m\u001b[32;43m1\u001b[39;49m\u001b[43m]\u001b[49m\n",
      "\u001b[31mKeyError\u001b[39m: 1"
     ]
    }
   ],
   "source": [
    "my_dict = {\"ten\": \"Nhut\", \"age\": 99, \"nghe nghiep\": \"dev\"}\n",
    "\n",
    "my_dict[1]"
   ]
  },
  {
   "cell_type": "code",
   "execution_count": null,
   "id": "cbac5966",
   "metadata": {},
   "outputs": [],
   "source": []
  }
 ],
 "metadata": {
  "kernelspec": {
   "display_name": "Python 3",
   "language": "python",
   "name": "python3"
  },
  "language_info": {
   "codemirror_mode": {
    "name": "ipython",
    "version": 3
   },
   "file_extension": ".py",
   "mimetype": "text/x-python",
   "name": "python",
   "nbconvert_exporter": "python",
   "pygments_lexer": "ipython3",
   "version": "3.13.7"
  }
 },
 "nbformat": 4,
 "nbformat_minor": 5
}
