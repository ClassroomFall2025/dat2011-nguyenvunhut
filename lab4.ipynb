{
 "cells": [
  {
   "cell_type": "markdown",
   "id": "fdeff819",
   "metadata": {},
   "source": [
    "# Sinh Viên thực hiện Lab 4 ở Đây"
   ]
  },
  {
   "cell_type": "markdown",
   "id": "acc5d7dc",
   "metadata": {},
   "source": [
    "## Lab 1 - Bài 1\n",
    "Viết một hàm để tính tiền nước sinh hoạt theo phương pháp lũy tiến. Tham só truyền vào hàm là số khối nước sử dụng trong tháng."
   ]
  },
  {
   "cell_type": "code",
   "execution_count": null,
   "id": "001e0507",
   "metadata": {},
   "outputs": [
    {
     "name": "stdout",
     "output_type": "stream",
     "text": [
      "1.231.147.000 ₫\n"
     ]
    }
   ],
   "source": [
    "import locale\n",
    "\n",
    "locale.setlocale(locale.LC_ALL, 'vi_VN.UTF-8')\n",
    "\n",
    "water_prices = (7500, 8800, 12000, 24000)\n",
    "\n",
    "def safe_input_float(prompt: str) -> float:\n",
    "    while True:\n",
    "        try:\n",
    "            return float(input(prompt))\n",
    "        except ValueError:\n",
    "            print(\"The input is invalid!, please reinput: \")\n",
    "\n",
    "def water_bill(volume:float, water_prices:tuple) -> float:\n",
    "\n",
    "    if volume > 30:\n",
    "        return 10 * water_prices[0] + 10 * water_prices[1] + 10 * water_prices[2] + (volume - 30) * water_prices[3]\n",
    "    elif volume > 20:\n",
    "        return 10 * water_prices[0] + 10 * water_prices[1] + (volume - 20) * water_prices[2]\n",
    "    elif volume > 10:\n",
    "        return 10 * water_prices[0] + (volume - 10) * water_prices[1]\n",
    "    else:\n",
    "        return volume * water_prices[0]\n",
    "    \n",
    "volume = safe_input_float(\"Enter your water usage: \")\n",
    "\n",
    "\n",
    "#print(f\"{water_bill(volume, water_prices):,.2f}\")\n",
    "print(locale.currency(water_bill(volume, water_prices), grouping=True))\n"
   ]
  },
  {
   "cell_type": "markdown",
   "id": "c0835310",
   "metadata": {},
   "source": [
    "## Lab 4 - Bài 2\n",
    "Chương trình tính nguyên liệu cần thiết để làm 1 bánh"
   ]
  },
  {
   "cell_type": "code",
   "execution_count": 11,
   "id": "fa9cb39f",
   "metadata": {},
   "outputs": [
    {
     "name": "stdout",
     "output_type": "stream",
     "text": [
      "Lượng nguyên liệu cần dùng là: {'sugars': 253.5, 'beans': 435.93000000000006}\n"
     ]
    }
   ],
   "source": [
    "\n",
    "def  safe_input_int(prompt: str) -> int:\n",
    "    while True:\n",
    "        try:\n",
    "            return int(input(prompt))\n",
    "        except ValueError:\n",
    "            print(\"Vui lòng nhập đúng số lượng!\")\n",
    "\n",
    "def ingredient_cal() -> dict:\n",
    "    sugars = {\"dau xanh\": 0.04, \"thap cam\": 0.06, \"deo\": 0.05}\n",
    "    beans = {\"dau xanh\": 0.07, \"thap cam\": 0.0, \"deo\": 0.02}\n",
    "    cake_number = {}\n",
    "    # Nhập và lưu số lượng bánh vào một dict\n",
    "    for cake in sugars.keys():\n",
    "        cake_number[cake] = safe_input_int(f\"Nhập vào số lượng bánh {cake}: \")\n",
    "\n",
    "    # Tính tổng đường và đậu dựa trên cake_number và sugar và beans đã cho\n",
    "    total_sugars = sum(cake_number[cake] * sugars[cake] for cake in sugars)\n",
    "    total_beans = sum(cake_number[cake] * beans[cake] for cake in beans)\n",
    "\n",
    "    return {\"sugars\": total_sugars, \"beans\": total_beans}\n",
    "\n",
    "print(f\"Lượng nguyên liệu cần dùng là: {ingredient_cal()}\")"
   ]
  },
  {
   "cell_type": "markdown",
   "id": "0f2483fe",
   "metadata": {},
   "source": [
    "## Lab 4 - Bài 3\n",
    "Nhập vào một dãy số nguyên từ bàn phím. Sử dụng hàm lamda để lọc ra các số chẵn từ dãy số. Xuất kết quả ra màn hình."
   ]
  },
  {
   "cell_type": "code",
   "execution_count": 6,
   "id": "7034990b",
   "metadata": {},
   "outputs": [
    {
     "name": "stdout",
     "output_type": "stream",
     "text": [
      "Nhập 's' để dừng nhập số nguyên mới\n",
      "Vui lòng nhập đúng kiểu số nguyên!\n",
      "Hoặc nhập 's' để dừng nhập số nguyên mới!\n",
      "Dãy số ban đầu: [351, 53, 2, 2, 22, 4, 736]\n",
      "Dãy số sau khi lọc: [2, 2, 22, 4, 736]\n"
     ]
    }
   ],
   "source": [
    "def safe_input_int(prompt: str):\n",
    "    while True:\n",
    "        value = input(prompt).strip()\n",
    "        if value.lower() == 's':\n",
    "            return None\n",
    "        try:\n",
    "            return int(value)\n",
    "        except ValueError:\n",
    "            print(\"Vui lòng nhập đúng kiểu số nguyên!\\nHoặc nhập 's' để dừng nhập số nguyên mới!\")\n",
    "\n",
    "def create_int_list() -> list:\n",
    "    int_list = []\n",
    "    print(\"Nhập 's' để dừng nhập số nguyên mới\")\n",
    "    while True:\n",
    "        new_int = safe_input_int(\"Nhập vào một số nguyên mới: \")\n",
    "        if new_int is None:\n",
    "            return int_list\n",
    "        int_list.append(new_int)\n",
    "my_list = create_int_list()\n",
    "new_list = list(filter(lambda x: (x%2 == 0), my_list))\n",
    "print(f\"Dãy số ban đầu: {my_list}\")\n",
    "print(f\"Dãy số sau khi lọc: {new_list}\")\n"
   ]
  },
  {
   "cell_type": "markdown",
   "id": "d36ea3d3",
   "metadata": {},
   "source": [
    "## Lab 4 - Bài 4"
   ]
  },
  {
   "cell_type": "code",
   "execution_count": 19,
   "id": "4c707ec1",
   "metadata": {},
   "outputs": [
    {
     "name": "stdout",
     "output_type": "stream",
     "text": [
      "------------------------------------------------------------\n",
      "1. Tính tiền nước sinh hoạt\n",
      "2. Tính nguyên liệu làm bánh\n",
      "3. Xuất ra màn hình dãy số chẵn\n",
      "4. Kết thúc\n",
      "------------------------------------------------------------\n",
      "2.947.000 ₫\n",
      "------------------------------------------------------------\n",
      "1. Tính tiền nước sinh hoạt\n",
      "2. Tính nguyên liệu làm bánh\n",
      "3. Xuất ra màn hình dãy số chẵn\n",
      "4. Kết thúc\n",
      "------------------------------------------------------------\n",
      "Số lượng nguyên liệu cần thiết là: {'sugars': 9.06, 'beans': 5.91}\n",
      "------------------------------------------------------------\n",
      "1. Tính tiền nước sinh hoạt\n",
      "2. Tính nguyên liệu làm bánh\n",
      "3. Xuất ra màn hình dãy số chẵn\n",
      "4. Kết thúc\n",
      "------------------------------------------------------------\n",
      "Nhập 's' để dừng nhập số nguyên mới\n",
      "Dãy số ban đầu là: [51, 3, 4, 3, 7, 3, 4, 62, 29, 54]\n",
      "Dãy số sau khi lọc là: [4, 4, 62, 54]\n",
      "------------------------------------------------------------\n",
      "1. Tính tiền nước sinh hoạt\n",
      "2. Tính nguyên liệu làm bánh\n",
      "3. Xuất ra màn hình dãy số chẵn\n",
      "4. Kết thúc\n",
      "------------------------------------------------------------\n",
      "Thank you!\n"
     ]
    }
   ],
   "source": [
    "import modul_lab4 as md\n",
    "import locale\n",
    "\n",
    "MENU = (\n",
    "    \"Tính tiền nước sinh hoạt\",\n",
    "    \"Tính nguyên liệu làm bánh\",\n",
    "    \"Xuất ra màn hình dãy số chẵn\",\n",
    "    \"Kết thúc\"\n",
    ")\n",
    "\n",
    "def choose_menu () -> int:\n",
    "    print('-' * 60)\n",
    "    for i, menu in enumerate(MENU, start=1):\n",
    "        print(f\"{i}. {menu}\")\n",
    "    print('-' * 60)\n",
    "    return md.safe_input_int(\"Chọn chức năng: \")\n",
    "\n",
    "while True:\n",
    "    choose = choose_menu()\n",
    "    match choose:\n",
    "        case 1:\n",
    "            volume = md.safe_input_float(\"Enter your water usage: \")\n",
    "            print(f\"{locale.currency(md.water_bill(volume, md.water_prices), grouping=True)}\")\n",
    "        case 2:\n",
    "            print(f\"Số lượng nguyên liệu cần thiết là: {md.ingredient_cal()}\")\n",
    "        case 3:\n",
    "            my_list = md.create_int_list()\n",
    "            new_list = list(filter(lambda x: (x%2 == 0), my_list))\n",
    "            print(f\"Dãy số ban đầu là: {my_list}\")\n",
    "            print(f\"Dãy số sau khi lọc là: {new_list}\")\n",
    "        case 4:\n",
    "            print(\"Thank you!\")\n",
    "            break\n",
    "        case _:\n",
    "            print(\"Chức nắng không tồn tại, vui lòng chọn lại!\")\n",
    "        \n"
   ]
  },
  {
   "cell_type": "markdown",
   "id": "e2b41d4a",
   "metadata": {},
   "source": [
    "## Lab 4 - Bài 5: bài tập làm thêm"
   ]
  },
  {
   "cell_type": "code",
   "execution_count": null,
   "id": "0e0172f7",
   "metadata": {},
   "outputs": [],
   "source": [
    "# code lab 4  bài làm thêm ở đây "
   ]
  }
 ],
 "metadata": {
  "kernelspec": {
   "display_name": "Python 3",
   "language": "python",
   "name": "python3"
  },
  "language_info": {
   "codemirror_mode": {
    "name": "ipython",
    "version": 3
   },
   "file_extension": ".py",
   "mimetype": "text/x-python",
   "name": "python",
   "nbconvert_exporter": "python",
   "pygments_lexer": "ipython3",
   "version": "3.13.7"
  }
 },
 "nbformat": 4,
 "nbformat_minor": 5
}
