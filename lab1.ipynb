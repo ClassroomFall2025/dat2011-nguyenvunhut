{
 "cells": [
  {
   "cell_type": "markdown",
   "id": "fdeff819",
   "metadata": {},
   "source": [
    "# Sinh Viên thực hiện Lab 1 ở Đây"
   ]
  },
  {
   "cell_type": "markdown",
   "id": "acc5d7dc",
   "metadata": {},
   "source": [
    "## Lab 1 - Bài 1"
   ]
  },
  {
   "cell_type": "code",
   "execution_count": 1,
   "id": "001e0507",
   "metadata": {},
   "outputs": [
    {
     "name": "stdout",
     "output_type": "stream",
     "text": [
      "Xin chào!\n",
      "Tôi tên là Nguyễn Vũ Nhưt\n",
      "Tôi đến từ Thành phố Hồ Chí Minh\n"
     ]
    }
   ],
   "source": [
    "print(\"Xin chào!\")\n",
    "print(\"Tôi tên là Nguyễn Vũ Nhưt\")\n",
    "print(\"Tôi đến từ Thành phố Hồ Chí Minh\")"
   ]
  },
  {
   "cell_type": "markdown",
   "id": "c0835310",
   "metadata": {},
   "source": [
    "## Lab 1 - Bài 2"
   ]
  },
  {
   "cell_type": "code",
   "execution_count": 2,
   "id": "fa9cb39f",
   "metadata": {},
   "outputs": [
    {
     "name": "stdout",
     "output_type": "stream",
     "text": [
      "--- CHƯƠNG TRÌNH TÍNH DIỆN TÍCH HÌNH CHỮ NHẬT ---\n",
      "-------------------------\n",
      "Diện tích hình chữ nhật là: 35.0\n",
      "Chu vi hình chữu nhật là: 24.0\n"
     ]
    }
   ],
   "source": [
    "print(\"--- CHƯƠNG TRÌNH TÍNH DIỆN TÍCH HÌNH CHỮ NHẬT ---\")\n",
    "\n",
    "#create functions to print an area and perimeter of retangle\n",
    "def rectangle_area() -> None:\n",
    "    return print(\"Diện tích hình chữ nhật là: \" + str(d*r))\n",
    "def rectange_perimeter() -> None:\n",
    "    return print(\"Chu vi hình chữu nhật là: \" + str((d+r)*2))\n",
    "\n",
    "#function to take length and width form keyboard\n",
    "def input_rd():\n",
    "    global d, r\n",
    "    d = float(input(\"Nhập vào chiều dài: \"))\n",
    "    r = float(input(\"Nhập vào chiều rộng: \"))\n",
    "    while d <= 0 or r <= 0:\n",
    "        print(\"Chiều dài và chiều rộng phải lớn hơn 0! vui lòng nhập lại\")\n",
    "        input_rd()\n",
    "    print(\"-------------------------\")\n",
    "    rectangle_area()\n",
    "    rectange_perimeter()\n",
    "    \n",
    "input_rd()"
   ]
  },
  {
   "cell_type": "markdown",
   "id": "0f2483fe",
   "metadata": {},
   "source": [
    "## Lab 1 - Bài 3"
   ]
  },
  {
   "cell_type": "code",
   "execution_count": 3,
   "id": "7034990b",
   "metadata": {},
   "outputs": [
    {
     "name": "stdout",
     "output_type": "stream",
     "text": [
      "\"...\n",
      "Sống không giận, không hờn không oán trách\n",
      "Sống mỉm cười, với thử thách chông giai\n",
      "Sống vươn lên, theo kịp ánh ban mai\n",
      "Sống chan hòa, với những người chung sống.\n",
      "\n",
      "Sống là động, nhưng lòng luôn bất động\n",
      "Sống là thương, nhưng lòng chẳng vấn vương\n",
      "Sống yên vui, danh lợi mãi coi thường\n",
      "Tâm bất biến, giữa dòng đời vạn biến.\n",
      "...\"\n"
     ]
    }
   ],
   "source": [
    "s= 'Sống'\n",
    "\n",
    "print('\"...\\n'\n",
    "      f'{s} không giận, không hờn không oán trách\\n'\n",
    "      f'{s} mỉm cười, với thử thách chông giai\\n'\n",
    "      f'{s} vươn lên, theo kịp ánh ban mai\\n'\n",
    "      f'{s} chan hòa, với những người chung sống.\\n'\n",
    "      '\\n'\n",
    "      f'{s} là động, nhưng lòng luôn bất động\\n'\n",
    "      f'{s} là thương, nhưng lòng chẳng vấn vương\\n'\n",
    "      f'{s} yên vui, danh lợi mãi coi thường\\n'\n",
    "      'Tâm bất biến, giữa dòng đời vạn biến.\\n'\n",
    "      '...\"')\n"
   ]
  },
  {
   "cell_type": "markdown",
   "id": "d36ea3d3",
   "metadata": {},
   "source": [
    "## Lab 1 - Bài 4"
   ]
  },
  {
   "cell_type": "code",
   "execution_count": 4,
   "id": "4c707ec1",
   "metadata": {},
   "outputs": [
    {
     "name": "stdout",
     "output_type": "stream",
     "text": [
      "delta: 12.0, squareroot is: 3.4641016151377544\n"
     ]
    }
   ],
   "source": [
    "#import math to use sqrt func\n",
    "import math as mt\n",
    "\n",
    "def get_coefficients() -> tuple[float, float, float]:\n",
    "    a = float(input(\"Nhập vào hệ số a: \"))\n",
    "    b = float(input(\"Nhập vào hệ số b: \"))\n",
    "    c = float(input(\"Nhập vào hệ số c: \"))\n",
    "    return a, b, c\n",
    "\n",
    "def cal_delta(a:float, b:float, c:float) -> tuple[float,float|complex]:\n",
    "    delta = (b*b)-(4*a*c)\n",
    "    if delta < 0:\n",
    "        sqrt_delta = \"Complex number\"\n",
    "    else: sqrt_delta = mt.sqrt(delta)\n",
    "    return delta, sqrt_delta\n",
    "\n",
    "    \n",
    "a, b, c = get_coefficients()\n",
    "delta , sqrt_delta = cal_delta(a, b, c)\n",
    "print(f\"delta: {delta}, squareroot is: {sqrt_delta}\")"
   ]
  },
  {
   "cell_type": "markdown",
   "id": "e2b41d4a",
   "metadata": {},
   "source": [
    "## Lab 1 - Bài 5: bài tập làm thêm"
   ]
  },
  {
   "cell_type": "code",
   "execution_count": null,
   "id": "0e0172f7",
   "metadata": {},
   "outputs": [],
   "source": [
    "# code lab 1  bài làm thêm ở đây "
   ]
  }
 ],
 "metadata": {
  "kernelspec": {
   "display_name": "Python 3",
   "language": "python",
   "name": "python3"
  },
  "language_info": {
   "codemirror_mode": {
    "name": "ipython",
    "version": 3
   },
   "file_extension": ".py",
   "mimetype": "text/x-python",
   "name": "python",
   "nbconvert_exporter": "python",
   "pygments_lexer": "ipython3",
   "version": "3.13.7"
  }
 },
 "nbformat": 4,
 "nbformat_minor": 5
}
