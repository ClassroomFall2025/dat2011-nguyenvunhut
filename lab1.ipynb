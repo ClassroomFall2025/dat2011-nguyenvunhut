{
 "cells": [
  {
   "cell_type": "markdown",
   "id": "fdeff819",
   "metadata": {},
   "source": [
    "# Sinh Viên thực hiện Lab 1 ở Đây"
   ]
  },
  {
   "cell_type": "markdown",
   "id": "acc5d7dc",
   "metadata": {},
   "source": [
    "## Lab 1 - Bài 1"
   ]
  },
  {
   "cell_type": "code",
   "execution_count": 1,
   "id": "001e0507",
   "metadata": {},
   "outputs": [
    {
     "name": "stdout",
     "output_type": "stream",
     "text": [
      "Xin chào!\n",
      "Tôi tên là Nguyễn Vũ Nhưt\n",
      "Tôi đến từ Thành phố Hồ Chí Minh\n"
     ]
    }
   ],
   "source": [
    "print(\"Xin chào!\")\n",
    "print(\"Tôi tên là Nguyễn Vũ Nhưt\")\n",
    "print(\"Tôi đến từ Thành phố Hồ Chí Minh\")"
   ]
  },
  {
   "cell_type": "markdown",
   "id": "c0835310",
   "metadata": {},
   "source": [
    "## Lab 1 - Bài 2"
   ]
  },
  {
   "cell_type": "code",
   "execution_count": 4,
   "id": "fa9cb39f",
   "metadata": {},
   "outputs": [
    {
     "name": "stdout",
     "output_type": "stream",
     "text": [
      "--- CHƯƠNG TRÌNH TÍNH DIỆN TÍCH HÌNH CHỮ NHẬT ---\n",
      "-------------------------------------------------\n",
      "Diện tích hình chữ nhật là: 32.0\n",
      "Chu vi hình chữu nhật là: 24.0\n"
     ]
    }
   ],
   "source": [
    "print(\"--- CHƯƠNG TRÌNH TÍNH DIỆN TÍCH HÌNH CHỮ NHẬT ---\")\n",
    "\n",
    "#create functions to print an area and perimeter of retangle\n",
    "def rectangle_area() -> None:\n",
    "    return print(\"Diện tích hình chữ nhật là: \" + str(length*width))\n",
    "def rectange_perimeter() -> None:\n",
    "    return print(\"Chu vi hình chữu nhật là: \" + str((length+width)*2))\n",
    "\n",
    "#function to take length and width form keyboard\n",
    "def input_rd():\n",
    "    global length, width\n",
    "    length = float(input(\"Nhập vào chiều dài: \"))\n",
    "    width = float(input(\"Nhập vào chiều rộng: \"))\n",
    "    while length <= 0 or width <= 0:\n",
    "        print(\"Chiều dài và chiều rộng phải lớn hơn 0! vui lòng nhập lại\")\n",
    "        input_rd()\n",
    "    print(\"-------------------------------------------------\")\n",
    "    rectangle_area()\n",
    "    rectange_perimeter()\n",
    "    \n",
    "input_rd()"
   ]
  },
  {
   "cell_type": "markdown",
   "id": "0f2483fe",
   "metadata": {},
   "source": [
    "## Lab 1 - Bài 3"
   ]
  },
  {
   "cell_type": "code",
   "execution_count": null,
   "id": "7034990b",
   "metadata": {},
   "outputs": [
    {
     "name": "stdout",
     "output_type": "stream",
     "text": [
      "\"...\n",
      "Sống không giận, không hờn không oán trách\n",
      "Sống mỉm cười, với thử thách chông giai\n",
      "Sống vươn lên, theo kịp ánh ban mai\n",
      "Sống chan hòa, với những người chung sống.\n",
      "\n",
      "Sống là động, nhưng lòng luôn bất động\n",
      "Sống là thương, nhưng lòng chẳng vấn vương\n",
      "Sống yên vui, danh lợi mãi coi thường\n",
      "Tâm bất biến, giữa dòng đời vạn biến.\n",
      "...\"\n"
     ]
    }
   ],
   "source": [
    "Song= 'Sống'\n",
    "\n",
    "print('\"...\\n'\n",
    "      f'{Song} không giận, không hờn không oán trách\\n'\n",
    "      f'{Song} mỉm cười, với thử thách chông gai\\n'\n",
    "      f'{Song} vươn lên, theo kịp ánh ban mai\\n'\n",
    "      f'{Song} chan hòa, với những người chung sống.\\n'\n",
    "      '\\n'\n",
    "      f'{Song} là động, nhưng lòng luôn bất động\\n'\n",
    "      f'{Song} là thương, nhưng lòng chẳng vấn vương\\n'\n",
    "      f'{Song} yên vui, danh lợi mãi coi thường\\n'\n",
    "      'Tâm bất biến, giữa dòng đời vạn biến.\\n'\n",
    "      '...\"')\n"
   ]
  },
  {
   "cell_type": "markdown",
   "id": "d36ea3d3",
   "metadata": {},
   "source": [
    "## Lab 1 - Bài 4"
   ]
  },
  {
   "cell_type": "code",
   "execution_count": 4,
   "id": "4c707ec1",
   "metadata": {},
   "outputs": [
    {
     "name": "stdout",
     "output_type": "stream",
     "text": [
      "delta: 12.0, squareroot is: 3.4641016151377544\n"
     ]
    }
   ],
   "source": [
    "#import math to use sqrt func\n",
    "import math as mt\n",
    "\n",
    "def get_coefficients() -> tuple[float, float, float]:\n",
    "    a = float(input(\"Nhập vào hệ số a: \"))\n",
    "    b = float(input(\"Nhập vào hệ số b: \"))\n",
    "    c = float(input(\"Nhập vào hệ số c: \"))\n",
    "    return a, b, c\n",
    "\n",
    "def cal_delta(a:float, b:float, c:float) -> tuple[float,float|complex]:\n",
    "    delta = (b*b)-(4*a*c)\n",
    "    if delta < 0:\n",
    "        sqrt_delta = \"Complex number\"\n",
    "    else: sqrt_delta = mt.sqrt(delta)\n",
    "    return delta, sqrt_delta\n",
    "\n",
    "    \n",
    "a, b, c = get_coefficients()\n",
    "delta , sqrt_delta = cal_delta(a, b, c)\n",
    "print(f\"delta: {delta}, squareroot is: {sqrt_delta}\")"
   ]
  },
  {
   "cell_type": "markdown",
   "id": "e2b41d4a",
   "metadata": {},
   "source": [
    "## Lab 1 - Bài 5: Nhập vào 2 số, tính tổng hiệu, tích, thương, logarit..."
   ]
  },
  {
   "cell_type": "code",
   "execution_count": 1,
   "id": "0e0172f7",
   "metadata": {},
   "outputs": [
    {
     "name": "stdout",
     "output_type": "stream",
     "text": [
      "\n",
      "--- 1. Phép tính cơ bản ---\n",
      "6.0 + 9.0 = 15.0\n",
      "6.0 - 9.0 = -3.0\n",
      "6.0 * 9.0 = 54.0\n",
      "6.0 / 9.0 = 0.6666666666666666\n",
      "\n",
      "--- 2. Lũy thừa ---\n",
      "6.0^9.0 = 10077696.0\n",
      "\n",
      "--- 3. Căn bậc hai ---\n",
      "√6.0 = 2.449489742783178\n",
      "√9.0 = 3.0\n",
      "\n",
      "--- 4. Hàm lượng giác (theo radian) ---\n",
      "sin(6.0) = -0.27941549819892586\n",
      "cos(6.0) = 0.960170286650366\n",
      "tan(6.0) = -0.29100619138474915\n",
      "sin(9.0) = 0.4121184852417566\n",
      "cos(9.0) = -0.9111302618846769\n",
      "tan(9.0) = -0.45231565944180985\n",
      "\n",
      "--- 5. Logarit ---\n",
      "log10(6.0) = 0.7781512503836436\n",
      "ln(6.0) = 1.791759469228055\n",
      "log cơ số 9.0 (6.0) = 0.8154648767857287\n",
      "log10(9.0) = 0.9542425094393249\n",
      "ln(9.0) = 2.1972245773362196\n",
      "log cơ số 6.0 (9.0) = 1.226294385530917\n"
     ]
    }
   ],
   "source": [
    "import math\n",
    "\n",
    "# Nhập số từ bàn phím\n",
    "x = float(input(\"Nhập số thứ nhất (x): \"))\n",
    "y = float(input(\"Nhập số thứ hai (y): \"))\n",
    "\n",
    "print(\"\\n--- 1. Phép tính cơ bản ---\")\n",
    "print(f\"{x} + {y} = {x + y}\")\n",
    "print(f\"{x} - {y} = {x - y}\")\n",
    "print(f\"{x} * {y} = {x * y}\")\n",
    "if y != 0:\n",
    "    print(f\"{x} / {y} = {x / y}\")\n",
    "else:\n",
    "    print(\"Không thể chia cho 0\")\n",
    "\n",
    "print(\"\\n--- 2. Lũy thừa ---\")\n",
    "print(f\"{x}^{y} = {x ** y}\")\n",
    "\n",
    "print(\"\\n--- 3. Căn bậc hai ---\")\n",
    "if x >= 0:\n",
    "    print(f\"√{x} = {math.sqrt(x)}\")\n",
    "else:\n",
    "    print(f\"Không thể tính căn bậc hai của số âm {x}\")\n",
    "if y >= 0:\n",
    "    print(f\"√{y} = {math.sqrt(y)}\")\n",
    "else:\n",
    "    print(f\"Không thể tính căn bậc hai của số âm {y}\")\n",
    "\n",
    "print(\"\\n--- 4. Hàm lượng giác (theo radian) ---\")\n",
    "print(f\"sin({x}) = {math.sin(x)}\")\n",
    "print(f\"cos({x}) = {math.cos(x)}\")\n",
    "print(f\"tan({x}) = {math.tan(x)}\")\n",
    "\n",
    "print(f\"sin({y}) = {math.sin(y)}\")\n",
    "print(f\"cos({y}) = {math.cos(y)}\")\n",
    "print(f\"tan({y}) = {math.tan(y)}\")\n",
    "\n",
    "print(\"\\n--- 5. Logarit ---\")\n",
    "if x > 0:\n",
    "    print(f\"log10({x}) = {math.log10(x)}\")\n",
    "    print(f\"ln({x}) = {math.log(x)}\")\n",
    "    print(f\"log cơ số {y} ({x}) = {math.log(x, y) if y > 0 and y != 1 else 'Cơ số log không hợp lệ'}\")\n",
    "else:\n",
    "    print(f\"Không thể tính logarit của số {x}\")\n",
    "\n",
    "if y > 0:\n",
    "    print(f\"log10({y}) = {math.log10(y)}\")\n",
    "    print(f\"ln({y}) = {math.log(y)}\")\n",
    "    print(f\"log cơ số {x} ({y}) = {math.log(y, x) if x > 0 and x != 1 else 'Cơ số log không hợp lệ'}\")\n",
    "else:\n",
    "    print(f\"Không thể tính logarit của số {y}\")\n"
   ]
  }
 ],
 "metadata": {
  "kernelspec": {
   "display_name": "Python 3",
   "language": "python",
   "name": "python3"
  },
  "language_info": {
   "codemirror_mode": {
    "name": "ipython",
    "version": 3
   },
   "file_extension": ".py",
   "mimetype": "text/x-python",
   "name": "python",
   "nbconvert_exporter": "python",
   "pygments_lexer": "ipython3",
   "version": "3.13.7"
  }
 },
 "nbformat": 4,
 "nbformat_minor": 5
}
