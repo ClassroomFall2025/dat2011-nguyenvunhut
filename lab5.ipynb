{
 "cells": [
  {
   "cell_type": "markdown",
   "id": "fdeff819",
   "metadata": {},
   "source": [
    "# Sinh Viên thực hiện Lab 5 ở Đây"
   ]
  },
  {
   "cell_type": "markdown",
   "id": "acc5d7dc",
   "metadata": {},
   "source": [
    "## Lab 5 - Bài 1"
   ]
  },
  {
   "cell_type": "code",
   "execution_count": null,
   "id": "001e0507",
   "metadata": {},
   "outputs": [
    {
     "name": "stdout",
     "output_type": "stream",
     "text": [
      "Nhut\n",
      "22\n",
      "44\n",
      "Nhut\n",
      "20\n",
      "No attribute!\n"
     ]
    }
   ],
   "source": [
    "# class Person:\n",
    "\n",
    "#     def __init__(self, name, age):\n",
    "#         self.name = name\n",
    "#         self.age = age\n",
    "\n",
    "#     def __str__(self):\n",
    "#         if not self.__dict__:\n",
    "#             return \"No attribute!\"\n",
    "#         return f\"{self.name}\\n{self.age}\"\n",
    "    \n",
    "#     def MyFunc(self):\n",
    "        \n",
    "#         return self.age * 2\n",
    "    \n",
    "# class Student(Person):\n",
    "#     def __init__(self, name, age, grade):\n",
    "#         self.grade = grade\n",
    "#         super().__init__(name, age)\n",
    "\n",
    "\n",
    "# p1 = Person(\"Nhut\", 22)\n",
    "# s1 = Student(\"Huy\")\n",
    "\n",
    "\n"
   ]
  },
  {
   "cell_type": "code",
   "execution_count": null,
   "id": "694e1bf0",
   "metadata": {},
   "outputs": [
    {
     "name": "stdout",
     "output_type": "stream",
     "text": [
      "Name: laptop, Price: 2241421.0, Discount: 21.0, Import tax: 224142.1\n"
     ]
    }
   ],
   "source": [
    "class SanPham:\n",
    "    def __init__(self, name, price, discount):\n",
    "        self.name = name\n",
    "        self.price = price\n",
    "        self.discount = discount\n",
    "    \n",
    "    def import_tax(self):\n",
    "        import_tax = self.price * 0.1\n",
    "        return import_tax\n",
    "    \n",
    "    def c_print(self):\n",
    "        print(f\"Name: {self.name}, Price: {self.price}, Discount: {self.discount}, Import tax: {self.import_tax()}\")\n",
    "\n",
    "    def __str__(self):\n",
    "        return f\"Name: {self.name:<10}, Price: {self.price:<8}, Discount: {self.discount:>8}, Import Tax: {self.import_tax():>8}\"\n",
    "# def input_products ():\n",
    "#     print(\"--Input product data--\")\n",
    "#     NumberOfProduct = int(input(\"Enter number of product you want to add informations: \"))\n",
    "#     products = []\n",
    "#     for product in range(NumberOfProduct):\n",
    "#         name = input(\"Enter product name: \")\n",
    "#         price = float(input(\"Enter product price: \"))\n",
    "#         discount = float(input(\"Enter product's discount: \"))\n",
    "#         pd = SanPham(name, price, discount)\n",
    "#         products.append(pd)\n",
    "#     return products\n",
    "pd1 = SanPham(input(\"Enter product name: \"), float(input(\"Enter product price\")), float(input(\"Enter product's discount: \")))\n",
    "pd1.c_print()"
   ]
  },
  {
   "cell_type": "markdown",
   "id": "c0835310",
   "metadata": {},
   "source": [
    "## Lab 5 - Bài 2"
   ]
  },
  {
   "cell_type": "code",
   "execution_count": 1,
   "id": "fa9cb39f",
   "metadata": {},
   "outputs": [
    {
     "name": "stdout",
     "output_type": "stream",
     "text": [
      "--Input information for product 1--\n"
     ]
    },
    {
     "name": "stdout",
     "output_type": "stream",
     "text": [
      "--Input information for product 2--\n",
      "\n",
      "--Product Information--\n",
      "Name: laptop, Price: 2312.0, Discount: 21.0, Import Tax: 231.20000000000002\n",
      "Name: cellphone, Price: 41212.0, Discount: 32.0, Import Tax: 4121.2\n"
     ]
    }
   ],
   "source": [
    "from lab5_Sanpham import Product\n",
    "\n",
    "sp1 = Product()\n",
    "sp2 = Product()\n",
    "\n",
    "print(\"--Input information for product 1--\")\n",
    "sp1.nhap()\n",
    "print(\"--Input information for product 2--\")\n",
    "sp2.nhap()\n",
    "\n",
    "print(\"\\n--Product Information--\")\n",
    "sp1.xuat()\n",
    "sp2.xuat()\n"
   ]
  },
  {
   "cell_type": "markdown",
   "id": "0f2483fe",
   "metadata": {},
   "source": [
    "## Lab 5 - Bài 3"
   ]
  },
  {
   "cell_type": "code",
   "execution_count": 5,
   "id": "7034990b",
   "metadata": {},
   "outputs": [
    {
     "name": "stdout",
     "output_type": "stream",
     "text": [
      "Enter product number 1 informations\n",
      "Enter product number 2 informations\n",
      "---product infomations---\n",
      "Name: laptop, Price: 412421.0, Discount: 21.0, Import Tax: 41242.10\n",
      "Name: cellphone, Price: 41431.0, Discount: 3.0, Import Tax: 4143.10\n"
     ]
    }
   ],
   "source": [
    "from lab5_Sanpham import ProductProtected\n",
    "\n",
    "product1 = ProductProtected()\n",
    "product2 = ProductProtected()\n",
    "\n",
    "print(\"Enter product number 1 informations\")\n",
    "product1.nhap()\n",
    "\n",
    "print(\"Enter product number 2 informations\")\n",
    "product2.nhap()\n",
    "\n",
    "\n",
    "print(\"---product infomations---\")\n",
    "product1.xuat()\n",
    "product2.xuat()"
   ]
  },
  {
   "cell_type": "markdown",
   "id": "d36ea3d3",
   "metadata": {},
   "source": [
    "## Lab 5 - Bài 4"
   ]
  },
  {
   "cell_type": "code",
   "execution_count": 1,
   "id": "4c707ec1",
   "metadata": {},
   "outputs": [
    {
     "name": "stdout",
     "output_type": "stream",
     "text": [
      "---Product inofmation---\n",
      "Name: Laptop, Price: 42100, Discount: 32, Import Tax: 4210.00\n",
      "Name: Cellphone, Price: 41421, Discount: 21, Import Tax: 4142.10\n"
     ]
    }
   ],
   "source": [
    "from lab5_Sanpham import ProductWithInit\n",
    "\n",
    "pd1 = ProductWithInit(\"Laptop\", 42100, 32)\n",
    "pd2 = ProductWithInit(\"Cellphone\", 41421, 21)\n",
    "print(\"---Product inofmation---\")\n",
    "pd1.xuat()\n",
    "pd2.xuat()"
   ]
  },
  {
   "cell_type": "markdown",
   "id": "e2b41d4a",
   "metadata": {},
   "source": [
    "## Lab 5 - Bài 5: bài tập làm thêm"
   ]
  },
  {
   "cell_type": "markdown",
   "id": "66b94447",
   "metadata": {},
   "source": [
    "Tạo chương trình máy tính, với class"
   ]
  },
  {
   "cell_type": "code",
   "execution_count": 1,
   "id": "0e0172f7",
   "metadata": {},
   "outputs": [
    {
     "name": "stdout",
     "output_type": "stream",
     "text": [
      "\n",
      "--- MÁY TÍNH ĐA NĂNG ---\n",
      "1. Phép tính cơ bản\n",
      "2. Lũy thừa\n",
      "3. Căn bậc hai\n",
      "4. Hàm lượng giác\n",
      "5. Logarit\n",
      "6. Tìm số lớn nhất trong ba số\n",
      "7. Giải phương trình bậc 2\n",
      "8. Thời gian hiện tại\n",
      "9. Hiển thị lịch sử tính toán\n",
      "10. Thoát chương trình\n",
      "--------------------\n",
      "32.0 + 51.0 = 83.0\n",
      "32.0 - 51.0 = -19.0\n",
      "32.0 * 51.0 = 1632.0\n",
      "32.0 / 51.0 = 0.6274509803921569\n",
      "\n",
      "--- MÁY TÍNH ĐA NĂNG ---\n",
      "1. Phép tính cơ bản\n",
      "2. Lũy thừa\n",
      "3. Căn bậc hai\n",
      "4. Hàm lượng giác\n",
      "5. Logarit\n",
      "6. Tìm số lớn nhất trong ba số\n",
      "7. Giải phương trình bậc 2\n",
      "8. Thời gian hiện tại\n",
      "9. Hiển thị lịch sử tính toán\n",
      "10. Thoát chương trình\n",
      "--------------------\n",
      "32.0^4.0 = 1048576.0\n",
      "\n",
      "--- MÁY TÍNH ĐA NĂNG ---\n",
      "1. Phép tính cơ bản\n",
      "2. Lũy thừa\n",
      "3. Căn bậc hai\n",
      "4. Hàm lượng giác\n",
      "5. Logarit\n",
      "6. Tìm số lớn nhất trong ba số\n",
      "7. Giải phương trình bậc 2\n",
      "8. Thời gian hiện tại\n",
      "9. Hiển thị lịch sử tính toán\n",
      "10. Thoát chương trình\n",
      "--------------------\n",
      "√32.0 = 5.656854249492381\n",
      "\n",
      "--- MÁY TÍNH ĐA NĂNG ---\n",
      "1. Phép tính cơ bản\n",
      "2. Lũy thừa\n",
      "3. Căn bậc hai\n",
      "4. Hàm lượng giác\n",
      "5. Logarit\n",
      "6. Tìm số lớn nhất trong ba số\n",
      "7. Giải phương trình bậc 2\n",
      "8. Thời gian hiện tại\n",
      "9. Hiển thị lịch sử tính toán\n",
      "10. Thoát chương trình\n",
      "--------------------\n",
      "Giải phương trình ax^2 + bx + c = 0\n",
      "2 nghiệm thực phân biệt:\n",
      "x1 = -0.1253079583915903\n",
      "x2 = -1.36249691965719\n",
      "\n",
      "--- MÁY TÍNH ĐA NĂNG ---\n",
      "1. Phép tính cơ bản\n",
      "2. Lũy thừa\n",
      "3. Căn bậc hai\n",
      "4. Hàm lượng giác\n",
      "5. Logarit\n",
      "6. Tìm số lớn nhất trong ba số\n",
      "7. Giải phương trình bậc 2\n",
      "8. Thời gian hiện tại\n",
      "9. Hiển thị lịch sử tính toán\n",
      "10. Thoát chương trình\n",
      "--------------------\n",
      "\n",
      "--- LỊCH SỬ TÍNH TOÁN ---\n",
      "STT   Phép tính                 Đầu vào                        Kết quả                                 \n",
      "----------------------------------------------------------------------------------------------------\n",
      "1     Phép tính cơ bản          x=32.0, y=51.0                 32.0 + 51.0 = 83.0, 32.0 - 51.0 = -19.0, 32.0 * 51.0 = 1632.0, 32.0 / 51.0 = 0.6274509803921569\n",
      "2     Lũy thừa                  base=32.0, exponent=4.0        32.0^4.0 = 1048576.0                    \n",
      "3     Căn bậc hai               num=32.0                       √32.0 = 5.656854249492381               \n",
      "4     Giải phương trình bậc 2   a=41.0, b=61.0, c=7.0          2 nghiệm thực phân biệt:, x1 = -0.1253079583915903, x2 = -1.36249691965719\n",
      "----------------------------------------------------------------------------------------------------\n",
      "\n",
      "--- MÁY TÍNH ĐA NĂNG ---\n",
      "1. Phép tính cơ bản\n",
      "2. Lũy thừa\n",
      "3. Căn bậc hai\n",
      "4. Hàm lượng giác\n",
      "5. Logarit\n",
      "6. Tìm số lớn nhất trong ba số\n",
      "7. Giải phương trình bậc 2\n",
      "8. Thời gian hiện tại\n",
      "9. Hiển thị lịch sử tính toán\n",
      "10. Thoát chương trình\n",
      "--------------------\n",
      "Cảm ơn bạn đã sử dụng chương trình. Tạm biệt!\n"
     ]
    }
   ],
   "source": [
    "from lab5_calculator_class import Calculator\n",
    "import lab5_module_bai5 as ui\n",
    "\n",
    "calc = Calculator() #\n",
    "\n",
    "while True:\n",
    "    choice = ui.display_menu()\n",
    "    print(\"-\" * 20)\n",
    "\n",
    "    if choice == 1:\n",
    "        x, y = ui.get_two_numbers()\n",
    "        result = calc.basic_operations(x, y)\n",
    "        print(result)\n",
    "    elif choice == 2:\n",
    "        base, exp = ui.get_two_numbers()\n",
    "        result = calc.power(base, exp)\n",
    "        print(result)\n",
    "    elif choice == 3:\n",
    "        num = ui.get_safe_float(\"Nhập số cần tính căn: \")\n",
    "        result = calc.square_root(num)\n",
    "        print(result)\n",
    "    elif choice == 4:\n",
    "        rad = ui.get_safe_float(\"Nhập góc (radian): \")\n",
    "        result = calc.trigonometric_funcs(rad)\n",
    "        print(result)\n",
    "    elif choice == 5:\n",
    "        print(\"Chọn loại logarit:\")\n",
    "        sub_choice = input(\"1. Log10 & Tự nhiên (ln) | 2. Log cơ số tùy chọn: \")\n",
    "        if sub_choice == '1':\n",
    "            num = ui.get_safe_float(\"Nhập số: \")\n",
    "            result = calc.logarithm(num)\n",
    "        elif sub_choice == '2':\n",
    "            num = ui.get_safe_float(\"Nhập số: \")\n",
    "            base = ui.get_safe_float(\"Nhập cơ số: \")\n",
    "            result = calc.logarithm(num, base)\n",
    "        else:\n",
    "            result = \"Lựa chọn không hợp lệ.\"\n",
    "        print(result)\n",
    "    elif choice == 6:\n",
    "        a = ui.get_safe_float(\"Nhập số thứ nhất: \")\n",
    "        b = ui.get_safe_float(\"Nhập số thứ hai: \")\n",
    "        c = ui.get_safe_float(\"Nhập số thứ ba: \")\n",
    "        result = calc.find_max_of_three(a, b, c)\n",
    "        print(result)\n",
    "    elif choice == 7:\n",
    "        a, b, c = ui.get_quadratic_coefficients()\n",
    "        result = calc.solve_quadratic(a, b, c)\n",
    "        print(result)\n",
    "    elif choice == 8:\n",
    "        result = calc.get_current_time()\n",
    "        print(result)\n",
    "    elif choice == 9:\n",
    "        calc.display_history()\n",
    "    elif choice == 10:\n",
    "        print(\"Cảm ơn bạn đã sử dụng chương trình. Tạm biệt!\")\n",
    "        break\n"
   ]
  },
  {
   "cell_type": "code",
   "execution_count": null,
   "id": "c40a2eab",
   "metadata": {},
   "outputs": [],
   "source": []
  }
 ],
 "metadata": {
  "kernelspec": {
   "display_name": "Python 3",
   "language": "python",
   "name": "python3"
  },
  "language_info": {
   "codemirror_mode": {
    "name": "ipython",
    "version": 3
   },
   "file_extension": ".py",
   "mimetype": "text/x-python",
   "name": "python",
   "nbconvert_exporter": "python",
   "pygments_lexer": "ipython3",
   "version": "3.13.7"
  }
 },
 "nbformat": 4,
 "nbformat_minor": 5
}
