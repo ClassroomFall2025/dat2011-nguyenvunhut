{
 "cells": [
  {
   "cell_type": "markdown",
   "id": "fdeff819",
   "metadata": {},
   "source": [
    "# Sinh Viên thực hiện Lab 5 ở Đây"
   ]
  },
  {
   "cell_type": "markdown",
   "id": "acc5d7dc",
   "metadata": {},
   "source": [
    "## Lab 5 - Bài 1"
   ]
  },
  {
   "cell_type": "code",
   "execution_count": null,
   "id": "001e0507",
   "metadata": {},
   "outputs": [
    {
     "name": "stdout",
     "output_type": "stream",
     "text": [
      "Nhut\n",
      "22\n",
      "44\n",
      "Nhut\n",
      "20\n",
      "No attribute!\n"
     ]
    }
   ],
   "source": [
    "# class Person:\n",
    "\n",
    "#     def __init__(self, name, age):\n",
    "#         self.name = name\n",
    "#         self.age = age\n",
    "\n",
    "#     def __str__(self):\n",
    "#         if not self.__dict__:\n",
    "#             return \"No attribute!\"\n",
    "#         return f\"{self.name}\\n{self.age}\"\n",
    "    \n",
    "#     def MyFunc(self):\n",
    "        \n",
    "#         return self.age * 2\n",
    "    \n",
    "# class Student(Person):\n",
    "#     def __init__(self, name, age, grade):\n",
    "#         self.grade = grade\n",
    "#         super().__init__(name, age)\n",
    "\n",
    "\n",
    "# p1 = Person(\"Nhut\", 22)\n",
    "# s1 = Student(\"Huy\")\n",
    "\n",
    "\n"
   ]
  },
  {
   "cell_type": "code",
   "execution_count": 11,
   "id": "694e1bf0",
   "metadata": {},
   "outputs": [
    {
     "name": "stdout",
     "output_type": "stream",
     "text": [
      "Name: laptop, Price: 2241421.0, Discount: 21.0, Import tax: 224142.1\n"
     ]
    }
   ],
   "source": [
    "class SanPham:\n",
    "    def __init__(self, name, price, discount):\n",
    "        self.name = name\n",
    "        self.price = price\n",
    "        self.discount = discount\n",
    "    \n",
    "    def import_tax(self):\n",
    "        import_tax = self.price * 0.1\n",
    "        return import_tax\n",
    "    \n",
    "    def c_print(self):\n",
    "        print(f\"Name: {self.name}, Price: {self.price}, Discount: {self.discount}, Import tax: {self.import_tax()}\")\n",
    "\n",
    "    def __str__(self):\n",
    "        return f\"Name: {self.name:<10}, Price: {self.price:<8}, Discount: {self.discount:>8}, Import Tax: {self.import_tax():>8}\"\n",
    "    \n",
    "# def input_products ():\n",
    "#     print(\"--Input product data--\")\n",
    "#     NumberOfProduct = int(input(\"Enter number of product you want to add informations: \"))\n",
    "#     products = []\n",
    "#     for product in range(NumberOfProduct):\n",
    "#         name = input(\"Enter product name: \")\n",
    "#         price = float(input(\"Enter product price: \"))\n",
    "#         discount = float(input(\"Enter product's discount: \"))\n",
    "#         pd = SanPham(name, price, discount)\n",
    "#         products.append(pd)\n",
    "#     return products\n",
    "\n",
    "pd1 = SanPham(input(\"Enter product name: \"), float(input(\"Enter product price\")), float(input(\"Enter product's discount: \")))\n",
    "\n",
    "pd1.c_print()"
   ]
  },
  {
   "cell_type": "markdown",
   "id": "c0835310",
   "metadata": {},
   "source": [
    "## Lab 5 - Bài 2"
   ]
  },
  {
   "cell_type": "code",
   "execution_count": 1,
   "id": "fa9cb39f",
   "metadata": {},
   "outputs": [
    {
     "name": "stdout",
     "output_type": "stream",
     "text": [
      "--Input information for product 1--\n"
     ]
    },
    {
     "name": "stdout",
     "output_type": "stream",
     "text": [
      "--Input information for product 2--\n",
      "\n",
      "--Product Information--\n",
      "Name: laptop, Price: 2312.0, Discount: 21.0, Import Tax: 231.20000000000002\n",
      "Name: cellphone, Price: 41212.0, Discount: 32.0, Import Tax: 4121.2\n"
     ]
    }
   ],
   "source": [
    "from lab5_Sanpham import Product\n",
    "\n",
    "sp1 = Product()\n",
    "sp2 = Product()\n",
    "\n",
    "print(\"--Input information for product 1--\")\n",
    "sp1.nhap()\n",
    "print(\"--Input information for product 2--\")\n",
    "sp2.nhap()\n",
    "\n",
    "print(\"\\n--Product Information--\")\n",
    "sp1.xuat()\n",
    "sp2.xuat()\n"
   ]
  },
  {
   "cell_type": "markdown",
   "id": "0f2483fe",
   "metadata": {},
   "source": [
    "## Lab 5 - Bài 3"
   ]
  },
  {
   "cell_type": "code",
   "execution_count": 5,
   "id": "7034990b",
   "metadata": {},
   "outputs": [
    {
     "name": "stdout",
     "output_type": "stream",
     "text": [
      "Enter product number 1 informations\n",
      "Enter product number 2 informations\n",
      "---product infomations---\n",
      "Name: laptop, Price: 412421.0, Discount: 21.0, Import Tax: 41242.10\n",
      "Name: cellphone, Price: 41431.0, Discount: 3.0, Import Tax: 4143.10\n"
     ]
    }
   ],
   "source": [
    "from lab5_Sanpham import ProductProtected\n",
    "\n",
    "product1 = ProductProtected()\n",
    "product2 = ProductProtected()\n",
    "\n",
    "print(\"Enter product number 1 informations\")\n",
    "product1.nhap()\n",
    "\n",
    "print(\"Enter product number 2 informations\")\n",
    "product2.nhap()\n",
    "\n",
    "\n",
    "print(\"---product infomations---\")\n",
    "product1.xuat()\n",
    "product2.xuat()"
   ]
  },
  {
   "cell_type": "markdown",
   "id": "d36ea3d3",
   "metadata": {},
   "source": [
    "## Lab 5 - Bài 4"
   ]
  },
  {
   "cell_type": "code",
   "execution_count": 1,
   "id": "4c707ec1",
   "metadata": {},
   "outputs": [
    {
     "name": "stdout",
     "output_type": "stream",
     "text": [
      "---Product inofmation---\n",
      "Name: Laptop, Price: 42100, Discount: 32, Import Tax: 4210.00\n",
      "Name: Cellphone, Price: 41421, Discount: 21, Import Tax: 4142.10\n"
     ]
    }
   ],
   "source": [
    "from lab5_Sanpham import ProductWithInit\n",
    "\n",
    "pd1 = ProductWithInit(\"Laptop\", 42100, 32)\n",
    "pd2 = ProductWithInit(\"Cellphone\", 41421, 21)\n",
    "print(\"---Product inofmation---\")\n",
    "pd1.xuat()\n",
    "pd2.xuat()"
   ]
  },
  {
   "cell_type": "markdown",
   "id": "e2b41d4a",
   "metadata": {},
   "source": [
    "## Lab 5 - Bài 5: bài tập làm thêm"
   ]
  },
  {
   "cell_type": "code",
   "execution_count": null,
   "id": "0e0172f7",
   "metadata": {},
   "outputs": [],
   "source": [
    "# code lab 5  bài làm thêm ở đây "
   ]
  }
 ],
 "metadata": {
  "kernelspec": {
   "display_name": "Python 3",
   "language": "python",
   "name": "python3"
  },
  "language_info": {
   "codemirror_mode": {
    "name": "ipython",
    "version": 3
   },
   "file_extension": ".py",
   "mimetype": "text/x-python",
   "name": "python",
   "nbconvert_exporter": "python",
   "pygments_lexer": "ipython3",
   "version": "3.13.7"
  }
 },
 "nbformat": 4,
 "nbformat_minor": 5
}
