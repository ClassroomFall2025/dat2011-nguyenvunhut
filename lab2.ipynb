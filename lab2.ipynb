{
 "cells": [
  {
   "cell_type": "markdown",
   "id": "fdeff819",
   "metadata": {},
   "source": [
    "# Sinh Viên thực hiện Lab 2 ở Đây"
   ]
  },
  {
   "cell_type": "markdown",
   "id": "acc5d7dc",
   "metadata": {},
   "source": [
    "## Lab 2 - Bài 1"
   ]
  },
  {
   "cell_type": "markdown",
   "id": "8b89258f",
   "metadata": {},
   "source": [
    "Sử dụng một biến kiểu chuỗi để lưu bài thơ"
   ]
  },
  {
   "cell_type": "code",
   "execution_count": 4,
   "id": "001e0507",
   "metadata": {},
   "outputs": [
    {
     "name": "stdout",
     "output_type": "stream",
     "text": [
      "Không tìm thấy từ trong bài thơ\n"
     ]
    }
   ],
   "source": [
    "bai_tho = \"\"\"Kiếp con người mỏng manh như là gió\n",
    "Sống trên đời có được mấy lần vui\n",
    "Sao phải đau mà không thể mỉm cười\n",
    "Gắng buông nỗi ngậm ngùi nơi quá khứ\n",
    "\n",
    "Nếu có thể sao ta không làm thử\n",
    "Để tâm hờn khắc hai chữ bình an\n",
    "Cho đôi chân bước thanh thản nhẹ nhàng\n",
    "Dù hướng đời có muôn ngàn đá sỏi\n",
    "\"\"\"\n",
    "# print(bai_tho)\n",
    "\n",
    "search_string = input(\"Nhập từ cần tìm: \")\n",
    "if search_string in bai_tho:\n",
    "    start_index = bai_tho.find(search_string)\n",
    "    found_text = bai_tho[start_index:start_index + len(search_string)]\n",
    "    print(f\"Đã tìm thấy: {found_text}\")\n",
    "    print(f\"Chuyển thành chữ hoa: {found_text.upper()}\")\n",
    "else:\n",
    "    print(\"Không tìm thấy từ trong bài thơ\")\n"
   ]
  },
  {
   "cell_type": "markdown",
   "id": "c0835310",
   "metadata": {},
   "source": [
    "## Lab 2 - Bài 2"
   ]
  },
  {
   "cell_type": "code",
   "execution_count": null,
   "id": "fa9cb39f",
   "metadata": {},
   "outputs": [
    {
     "name": "stdout",
     "output_type": "stream",
     "text": [
      "\"...Kiếp con người mỏng manh như là gió\n",
      "Sống trên đời có được mấy lần vui\n",
      "Sao phải đau mà không thể mỉm cười\n",
      "Gắng buông nỗi ngậm ngùi nơi quá khứ\n",
      "\n",
      "Nếu có thể sao ta không làm thử\n",
      "Để tâm hờn khắc hai chữ hạnh phúc\n",
      "Cho đôi chân bước thanh thản nhẹ nhàng\n",
      "Dù hướng đời có muôn ngàn đá sỏi\n",
      "...\"\n"
     ]
    }
   ],
   "source": [
    "# print(bai_tho.replace(\"bình an\", \"hạnh phúc\"))\n",
    "# print('\"...' + bai_tho + '...\"')\n",
    "# print(\"\".join(['\"...', bai_tho,'...\"']))\n",
    "# print(f'\"...{bai_tho}...\"')\n",
    "\n",
    "new_poem = '\"...' + bai_tho.replace('bình an', 'hạnh phúc') + '...\"'\n",
    "print(new_poem)\n"
   ]
  },
  {
   "cell_type": "markdown",
   "id": "0f2483fe",
   "metadata": {},
   "source": [
    "## Lab 2 - Bài 3"
   ]
  },
  {
   "cell_type": "code",
   "execution_count": 2,
   "id": "7034990b",
   "metadata": {},
   "outputs": [
    {
     "name": "stdout",
     "output_type": "stream",
     "text": [
      "--- CHƯƠNG TRÌNH GIẢI PHƯƠNG TRÌNH BẬC NHẤT ---\n"
     ]
    },
    {
     "data": {
      "text/plain": [
       "'Nghiệm của phương trình là: x =  -1.6'"
      ]
     },
     "execution_count": 2,
     "metadata": {},
     "output_type": "execute_result"
    }
   ],
   "source": [
    "print(\"--- CHƯƠNG TRÌNH GIẢI PHƯƠNG TRÌNH BẬC NHẤT ---\")\n",
    "\n",
    "def get_coefficents_ab() -> tuple[float,float]:\n",
    "    a = float(input(\"Nhập vào hệ số a: \"))\n",
    "    b = float(input(\"Nhập vào hệ số b: \"))\n",
    "    return a,b\n",
    "\n",
    "def solve_linear(a:float, b:float):\n",
    "    \"\"\"Giải phương trình ax + b = 0\"\"\"\n",
    "    if a == 0:\n",
    "        if b == 0:\n",
    "            print(\"Phương trình vô số nghiệm: 0 = 0\")\n",
    "        else: print(f\"Phương trình vô nghiệm: {b} = 0\")\n",
    "    else: return f\"Nghiệm của phương trình là: x =  {-b/a}\"\n",
    "\n",
    "a, b = get_coefficents_ab()\n",
    "solve_linear(a, b)\n",
    "\n"
   ]
  },
  {
   "cell_type": "markdown",
   "id": "d36ea3d3",
   "metadata": {},
   "source": [
    "## Lab 2 - Bài 4"
   ]
  },
  {
   "cell_type": "code",
   "execution_count": 1,
   "id": "4c707ec1",
   "metadata": {},
   "outputs": [
    {
     "name": "stdout",
     "output_type": "stream",
     "text": [
      "--- CHƯƠNG TRÌNH GIẢI PHƯƠNG TRÌNH BẬC HAI ---\n",
      "Phương trình có 2 nghiệm thực phân biệt:\n",
      "x1 = -0.31010205144336445\n",
      "x2 = -1.2898979485566355\n"
     ]
    }
   ],
   "source": [
    "import math\n",
    "import cmath\n",
    "\n",
    "print(\"--- CHƯƠNG TRÌNH GIẢI PHƯƠNG TRÌNH BẬC HAI ---\")\n",
    "\n",
    "def get_coefficients() -> tuple[float, float, float]:\n",
    "    a = float(input(\"Nhập vào hệ số a: \"))\n",
    "    b = float(input(\"Nhập vào hệ số b: \"))\n",
    "    c = float(input(\"Nhập vào hệ số c: \"))\n",
    "    return a, b, c\n",
    "\n",
    "def solve_linear(a: float, b: float) -> str:\n",
    "    \"\"\"Giải phương trình ax + b = 0\"\"\"\n",
    "    if a == 0:\n",
    "        if b == 0:\n",
    "            return \"Phương trình vô số nghiệm\"\n",
    "        else:\n",
    "            return \"Phương trình vô nghiệm\"\n",
    "    return f\"Nghiệm của phương trình là: x = {-b/a}\"\n",
    "\n",
    "def calc_discriminant(a: float, b: float, c: float) -> tuple[float, float | complex]:\n",
    "    \"\"\"Tính delta và căn delta phương trình bậc 2\"\"\"\n",
    "    delta = b**2 - 4*a*c\n",
    "    sqrt_delta = math.sqrt(delta) if delta >= 0 else cmath.sqrt(delta)\n",
    "    return delta, sqrt_delta\n",
    "\n",
    "def solve_quadratic(a: float, b: float, c: float) -> str:\n",
    "    \"\"\"Giải phương trình bậc 2\"\"\"\n",
    "    if a == 0:\n",
    "        return solve_linear(b, c)\n",
    "    \n",
    "    delta, sqrt_delta = calc_discriminant(a, b, c)\n",
    "    if delta == 0:\n",
    "        x = -b / (2*a)\n",
    "        return f\"Phương trình có nghiệm kép: x = {x}\"\n",
    "    elif delta < 0:\n",
    "        x1 = (-b + sqrt_delta) / (2*a)\n",
    "        x2 = (-b - sqrt_delta) / (2*a)\n",
    "        return f\"Phương trình có 2 nghiệm phức phân biệt:\\nx1 = {x1}\\nx2 = {x2}\"\n",
    "    else:\n",
    "        x1 = (-b + sqrt_delta) / (2*a)\n",
    "        x2 = (-b - sqrt_delta) / (2*a)\n",
    "        return f\"Phương trình có 2 nghiệm thực phân biệt:\\nx1 = {x1}\\nx2 = {x2}\"\n",
    "\n",
    "a, b, c = get_coefficients()\n",
    "print(solve_quadratic(a, b, c))\n"
   ]
  },
  {
   "cell_type": "markdown",
   "id": "e2b41d4a",
   "metadata": {},
   "source": [
    "## Lab 2 - Bài 5: bài tập làm thêm"
   ]
  },
  {
   "cell_type": "code",
   "execution_count": 1,
   "id": "0e0172f7",
   "metadata": {},
   "outputs": [
    {
     "name": "stdout",
     "output_type": "stream",
     "text": [
      "\n",
      "--- Simple calculator ---\n",
      "1. Phép tính cơ bản\n",
      "2. Lũy thừa\n",
      "3. Căn bậc hai\n",
      "4. Hàm lượng giác\n",
      "5. Logarit\n",
      "6. Tìm số lớn nhất trong ba số\n",
      "7. Thoát chương trình\n",
      "sin(4.0) = -0.7568024953079282\n",
      "cos(4.0) = -0.6536436208636119\n",
      "tan(4.0) = 1.1578212823495777\n",
      "\n",
      "--- Simple calculator ---\n",
      "1. Phép tính cơ bản\n",
      "2. Lũy thừa\n",
      "3. Căn bậc hai\n",
      "4. Hàm lượng giác\n",
      "5. Logarit\n",
      "6. Tìm số lớn nhất trong ba số\n",
      "7. Thoát chương trình\n",
      "Chào tạm biệt!\n"
     ]
    }
   ],
   "source": [
    "import math, cmath\n",
    "\n",
    "def safe_float_input(prompt: str) -> float:\n",
    "    while True:\n",
    "        try:\n",
    "            return float(input(prompt))\n",
    "        except ValueError:\n",
    "            print(\"Vui lòng nhập số hợp lệ.\")\n",
    "\n",
    "def nhap_so() -> tuple[float,float]:\n",
    "    return safe_float_input(\"Nhập số thứ nhất (x): \"), safe_float_input(\"Nhập số thứ hai (y): \")\n",
    "\n",
    "def chon_phep_tinh() -> int:\n",
    "    print(\"\\n--- Simple calculator ---\")\n",
    "    print(\"1. Phép tính cơ bản\")\n",
    "    print(\"2. Lũy thừa\")\n",
    "    print(\"3. Căn bậc hai\")\n",
    "    print(\"4. Hàm lượng giác\")\n",
    "    print(\"5. Logarit\")\n",
    "    print(\"6. Tìm số lớn nhất trong ba số\")\n",
    "    print(\"7. Thoát chương trình\")\n",
    "    return int(input(\"Chọn phép tính: \"))\n",
    "\n",
    "while True:\n",
    "    choose = chon_phep_tinh()\n",
    "    match choose:\n",
    "        case 1:\n",
    "            print(\"\\n--- 1. Phép tính cơ bản ---\")\n",
    "            x, y = nhap_so()\n",
    "            print(f\"{x} + {y} = {x + y}\")\n",
    "            print(f\"{x} - {y} = {x - y}\")\n",
    "            print(f\"{x} * {y} = {x * y}\")\n",
    "            print(f\"{x} / {y} = {x / y}\" if y != 0 else \"Không thể chia cho 0\")\n",
    "        case 2:\n",
    "            x, y = nhap_so()\n",
    "            print(f\"{x}^{y} = {x ** y}\")\n",
    "        case 3:\n",
    "            x = safe_float_input(\"Nhập số cần tính: \")\n",
    "            print(f\"√{x} = {math.sqrt(x) if x >= 0 else cmath.sqrt(x)}\")\n",
    "        case 4:\n",
    "            x = safe_float_input(\"Nhập số cần tính (radian): \")\n",
    "            print(f\"sin({x}) = {math.sin(x)}\")\n",
    "            print(f\"cos({x}) = {math.cos(x)}\")\n",
    "            print(f\"tan({x}) = {math.tan(x)}\")\n",
    "        case 5:\n",
    "            sub_log = int(input(\"1. Log10 & ln | 2. Log cơ số tùy chọn: \"))\n",
    "            if sub_log == 1:\n",
    "                x = safe_float_input(\"Nhập số cần tính: \")\n",
    "                print(f\"log10({x}) = {math.log10(x)}\" if x > 0 else \"Không thể tính logarit của số không dương\")\n",
    "                print(f\"ln({x}) = {math.log(x)}\" if x > 0 else \"\")\n",
    "            elif sub_log == 2:\n",
    "                x, y = nhap_so()\n",
    "                print(f\"log cơ số {y} ({x}) = {math.log(x, y)}\" if x > 0 and y > 0 and y != 1 else \"Cơ số log không hợp lệ\")\n",
    "        case 6:\n",
    "            print(\"--- Tìm số lớn nhất trong 3 số ---\")\n",
    "            a = float(input(\"Nhập số thứ nhất: \"))\n",
    "            b = float(input(\"Nhập số thứ hai: \"))\n",
    "            c = float(input(\"Nhập số thứ ba: \"))\n",
    "\n",
    "            max_value = a \n",
    "            if b > max_value:\n",
    "                max_value = b\n",
    "            if c > max_value:\n",
    "                max_value = c\n",
    "            print(f\"Số lớn nhất là số: {max_value}\")\n",
    "            \n",
    "        case 7:\n",
    "            print(\"Chào tạm biệt!\")\n",
    "            break\n",
    "        case _:\n",
    "            print(\"Lựa chọn không hợp lệ.\")\n"
   ]
  },
  {
   "cell_type": "code",
   "execution_count": 2,
   "id": "391e40a5",
   "metadata": {},
   "outputs": [
    {
     "name": "stdout",
     "output_type": "stream",
     "text": [
      "(12.0, -2.0, 35.0, 0.7142857142857143)\n"
     ]
    }
   ],
   "source": [
    "def cong_tru_nhan_chia (a, b):\n",
    "    return a+b, a-b, a*b, a/b\n",
    "\n",
    "a = float(input(\"nhap so a: \"))\n",
    "b = float(input(\"nhap so b\"))\n",
    "\n",
    "print(cong_tru_nhan_chia(a, b))"
   ]
  }
 ],
 "metadata": {
  "kernelspec": {
   "display_name": "Python 3",
   "language": "python",
   "name": "python3"
  },
  "language_info": {
   "codemirror_mode": {
    "name": "ipython",
    "version": 3
   },
   "file_extension": ".py",
   "mimetype": "text/x-python",
   "name": "python",
   "nbconvert_exporter": "python",
   "pygments_lexer": "ipython3",
   "version": "3.13.7"
  }
 },
 "nbformat": 4,
 "nbformat_minor": 5
}
