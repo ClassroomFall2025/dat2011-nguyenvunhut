{
 "cells": [
  {
   "cell_type": "markdown",
   "id": "fdeff819",
   "metadata": {},
   "source": [
    "# Sinh Viên thực hiện Lab 2 ở Đây"
   ]
  },
  {
   "cell_type": "markdown",
   "id": "acc5d7dc",
   "metadata": {},
   "source": [
    "## Lab 2 - Bài 1"
   ]
  },
  {
   "cell_type": "markdown",
   "id": "8b89258f",
   "metadata": {},
   "source": [
    "Sử dụng một biến kiểu chuỗi để lưu bài thơ"
   ]
  },
  {
   "cell_type": "code",
   "execution_count": 4,
   "id": "001e0507",
   "metadata": {},
   "outputs": [
    {
     "name": "stdout",
     "output_type": "stream",
     "text": [
      "Không tìm thấy từ trong bài thơ\n"
     ]
    }
   ],
   "source": [
    "bai_tho = \"\"\"Kiếp con người mỏng manh như là gió\n",
    "Sống trên đời có được mấy lần vui\n",
    "Sao phải đau mà không thể mỉm cười\n",
    "Gắng buông nỗi ngậm ngùi nơi quá khứ\n",
    "\n",
    "Nếu có thể sao ta không làm thử\n",
    "Để tâm hờn khắc hai chữ bình an\n",
    "Cho đôi chân bước thanh thản nhẹ nhàng\n",
    "Dù hướng đời có muôn ngàn đá sỏi\n",
    "\"\"\"\n",
    "# print(bai_tho)\n",
    "\n",
    "search_string = input(\"Nhập từ cần tìm: \")\n",
    "if search_string in bai_tho:\n",
    "    start_index = bai_tho.find(search_string)\n",
    "    found_text = bai_tho[start_index:start_index + len(search_string)]\n",
    "    print(f\"Đã tìm thấy: {found_text}\")\n",
    "    print(f\"Chuyển thành chữ hoa: {found_text.upper()}\")\n",
    "else:\n",
    "    print(\"Không tìm thấy từ trong bài thơ\")\n"
   ]
  },
  {
   "cell_type": "markdown",
   "id": "c0835310",
   "metadata": {},
   "source": [
    "## Lab 2 - Bài 2"
   ]
  },
  {
   "cell_type": "code",
   "execution_count": 5,
   "id": "fa9cb39f",
   "metadata": {},
   "outputs": [
    {
     "name": "stdout",
     "output_type": "stream",
     "text": [
      "\"...Kiếp con người mỏng manh như là gió\n",
      "Sống trên đời có được mấy lần vui\n",
      "Sao phải đau mà không thể mỉm cười\n",
      "Gắng buông nỗi ngậm ngùi nơi quá khứ\n",
      "\n",
      "Nếu có thể sao ta không làm thử\n",
      "Để tâm hờn khắc hai chữ hạnh phúc\n",
      "Cho đôi chân bước thanh thản nhẹ nhàng\n",
      "Dù hướng đời có muôn ngàn đá sỏi\n",
      "...\"\n"
     ]
    }
   ],
   "source": [
    "# print(bai_tho.replace(\"bình an\", \"hạnh phúc\"))\n",
    "# # print('\"...' + bai_tho + '...\"')\n",
    "# # print(\"\".join(['\"...', bai_tho,'...\"']))\n",
    "# print(f'\"...{bai_tho}...\"')\n",
    "\n",
    "new_poem = '\"...' + bai_tho.replace('bình an', 'hạnh phúc') + '...\"'\n",
    "print(new_poem)\n"
   ]
  },
  {
   "cell_type": "markdown",
   "id": "0f2483fe",
   "metadata": {},
   "source": [
    "## Lab 2 - Bài 3"
   ]
  },
  {
   "cell_type": "code",
   "execution_count": 35,
   "id": "7034990b",
   "metadata": {},
   "outputs": [
    {
     "name": "stdout",
     "output_type": "stream",
     "text": [
      "--- CHƯƠNG TRÌNH GIẢI PHƯƠNG TRÌNH BẬC NHẤT ---\n",
      "Nghiệm của phương trình là: x =  -2.3333333333333335\n"
     ]
    }
   ],
   "source": [
    "print(\"--- CHƯƠNG TRÌNH GIẢI PHƯƠNG TRÌNH BẬC NHẤT ---\")\n",
    "\n",
    "def get_coefficents_ab() -> tuple[float,float]:\n",
    "    a = float(input(\"Nhập vào hệ số a: \"))\n",
    "    b = float(input(\"Nhập vào hệ số b: \"))\n",
    "    return a,b\n",
    "\n",
    "def solve_linear(a:float, b:float):\n",
    "    \"\"\"Giải phương trình ax + b = 0\"\"\"\n",
    "    if a == 0:\n",
    "        if b == 0:\n",
    "            print(\"Phương trình vô số nghiệm: 0 = 0\")\n",
    "        else: print(f\"Phương trình vô nghiệm: {b} = 0\")\n",
    "    else: return print(f\"Nghiệm của phương trình là: x =  {-b/a}\")\n",
    "\n",
    "a, b = get_coefficents_ab()\n",
    "solve_linear(a, b)\n",
    "\n"
   ]
  },
  {
   "cell_type": "markdown",
   "id": "d36ea3d3",
   "metadata": {},
   "source": [
    "## Lab 2 - Bài 4"
   ]
  },
  {
   "cell_type": "code",
   "execution_count": 37,
   "id": "4c707ec1",
   "metadata": {},
   "outputs": [
    {
     "name": "stdout",
     "output_type": "stream",
     "text": [
      "--- CHƯƠNG TRÌNH GIẢI PHƯƠNG TRÌNH BẬC HAI ---\n",
      "Phương trình có 2 nghiệp phức phân biệt:\n",
      "x1 =  (-1+1.2909944487358056j) \n",
      "x2 =  (-1-1.2909944487358056j)\n"
     ]
    }
   ],
   "source": [
    "import math as mt\n",
    "import cmath as cmt\n",
    "\n",
    "\n",
    "print(\"--- CHƯƠNG TRÌNH GIẢI PHƯƠNG TRÌNH BẬC HAI ---\")\n",
    "\n",
    "def get_coefficients_abc() -> tuple[float, float, float]:\n",
    "    a = float(input(\"Nhập vào hệ số a: \"))\n",
    "    b = float(input(\"Nhập vào hệ số b: \"))\n",
    "    c = float(input(\"Nhập vào hệ số c: \"))\n",
    "    return a, b, c\n",
    "\n",
    "def solve_linear(a:float, b:float):\n",
    "    \"\"\"Giải phương trình ax + b = 0\"\"\"\n",
    "    if a == 0:\n",
    "        if b == 0:\n",
    "            print(\"Phương trình vô số nghiệm: 0 = 0\")\n",
    "        else: print(f\"Phương trình vô nghiệm: {b} = 0\")\n",
    "    else: return print(\"Nghiệm của phường trình là: x = \" + str(-b/a))\n",
    "\n",
    "def cal_delta(a:float, b:float, c:float) -> tuple[float,float|complex]:\n",
    "    \"\"\"Tính delta và căn delta phương trình bậc 2\"\"\"\n",
    "    delta = (b*b)-(4*a*c)\n",
    "    if delta < 0:\n",
    "        sqrt_delta = cmt.sqrt(delta)\n",
    "    else: sqrt_delta = mt.sqrt(delta)\n",
    "    return delta, sqrt_delta\n",
    "\n",
    "def solve_quadratic(a:float, b:float, c:float):\n",
    "    \"\"\"Giải phương trình bậc 2\"\"\"\n",
    "    if a == 0: solve_linear(b,c)\n",
    "    else:\n",
    "        delta, sqrt_delta = cal_delta(a, b, c)\n",
    "        if delta == 0:\n",
    "            print(\"Nghiệm của phương trình là: x = \" , str(-b/(2*a)))\n",
    "        elif delta < 0:\n",
    "            print(\"Phương trình có 2 nghiệp phức phân biệt:\")\n",
    "            x1 = -b/(2*a) + sqrt_delta/(2*a)\n",
    "            x2 = -b/(2*a) - sqrt_delta/(2*a)\n",
    "            print(\"x1 = \" , str(x1),\"\\n\",\"\\rx2 = \" , str(x2))\n",
    "        else: \n",
    "            print(\"Phương trình có hai nghiệp thực phân biệt: \")\n",
    "            x1 = -b/(2*a) + sqrt_delta/(2*a)\n",
    "            x2 = -b/(2*a) - sqrt_delta/(2*a)\n",
    "            print(\"x1 = \" , str(x1) ,\"\\n\", \"\\rx2 = \" , str(x2))\n",
    "\n",
    "\n",
    "a, b, c = get_coefficients_abc()\n",
    "solve_quadratic(a, b, c)"
   ]
  },
  {
   "cell_type": "markdown",
   "id": "e2b41d4a",
   "metadata": {},
   "source": [
    "## Lab 2 - Bài 5: bài tập làm thêm"
   ]
  },
  {
   "cell_type": "code",
   "execution_count": null,
   "id": "0e0172f7",
   "metadata": {},
   "outputs": [],
   "source": [
    "# code lab 2  bài làm thêm ở đây "
   ]
  }
 ],
 "metadata": {
  "kernelspec": {
   "display_name": "Python 3",
   "language": "python",
   "name": "python3"
  },
  "language_info": {
   "codemirror_mode": {
    "name": "ipython",
    "version": 3
   },
   "file_extension": ".py",
   "mimetype": "text/x-python",
   "name": "python",
   "nbconvert_exporter": "python",
   "pygments_lexer": "ipython3",
   "version": "3.13.7"
  }
 },
 "nbformat": 4,
 "nbformat_minor": 5
}
