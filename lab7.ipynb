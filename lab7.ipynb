{
 "cells": [
  {
   "cell_type": "markdown",
   "id": "fdeff819",
   "metadata": {},
   "source": [
    "# Sinh Viên thực hiện Lab 7 ở Đây"
   ]
  },
  {
   "cell_type": "markdown",
   "id": "acc5d7dc",
   "metadata": {},
   "source": [
    "## Lab 7 - Bài 1"
   ]
  },
  {
   "cell_type": "code",
   "execution_count": null,
   "id": "001e0507",
   "metadata": {},
   "outputs": [
    {
     "name": "stdout",
     "output_type": "stream",
     "text": [
      "Tự nguyện\n",
      "Trương Quốc Khánh\n",
      "Nếu là chim, tôi sẽ là loài bồ câu trắng\n",
      "Nếu là hoa, tôi sẽ là một đóa hướng dương\n",
      "Nếu là mây, tôi sẽ là một vầng mây ấm\n",
      "Là người, tôi sẽ chết cho quê hương.\n",
      "\n",
      "Là chim, tôi sẽ cất cao đôi cánh mềm\n",
      "Từ nam ra ngoài bắc báo tin nối liền\n",
      "Là hoa, tôi nở tình yêu ban sớm\n",
      "Cùng muôn trái tim ngất ngây hoà bình.\n",
      "\n",
      "Là mây, theo làn gió tung bay khắp trời\n",
      "Nghìn xưa oai hùng đó tôi xin tiếp lời\n",
      "Là người, xin một lần khi nằm xuống\n",
      "Nhìn anh em đứng lên phất cao ngọn cờ.\n",
      "**************************************************\n",
      "Tự nguyện\n",
      "**************************************************\n",
      "Trương Quốc Khánh\n",
      "\n",
      "**************************************************\n",
      "Trương Quốc Khánh\n",
      "\n"
     ]
    }
   ],
   "source": [
    "resource = open(\"lab7_resource.txt\", 'r', encoding=\"UTF-8\")\n",
    "print(resource.read())\n",
    "resource.close()\n",
    "\n",
    "# use with with instead of open() - close() for automate to close process\n",
    "print(\"*\" * 50)\n",
    "with open(\"lab7_resource.txt\", 'r', encoding=\"utf-8\") as f:\n",
    "    content = f.read(9)\n",
    "    print(content)\n",
    "\n",
    "print(\"*\" * 50)\n",
    "print(\"print the seccond line in text file 1st solution\")\n",
    "with open(\"lab7_resource.txt\", 'r', encoding=\"utf-8\") as file:\n",
    "    for line, line_content in enumerate(file, start=1):\n",
    "        if line == 2:\n",
    "            print(line_content)\n",
    "            break\n",
    "\n",
    "print(\"*\" *50)\n",
    "print(\"Print seccond line in text file 2nd solution\")\n",
    "with open(\"lab7_resource.txt\", 'r', encoding='utf-8') as text:\n",
    "    text.readline()\n",
    "    print(text.readline())"
   ]
  },
  {
   "cell_type": "markdown",
   "id": "c0835310",
   "metadata": {},
   "source": [
    "## Lab 7 - Bài 2"
   ]
  },
  {
   "cell_type": "code",
   "execution_count": 5,
   "id": "fa9cb39f",
   "metadata": {},
   "outputs": [
    {
     "name": "stdout",
     "output_type": "stream",
     "text": [
      "\"...\n",
      "Nếu một mai tôi có bay lên trời\n",
      "Thì người ơi tôi đã sống rất thảnh thơi\n",
      "Nếu một mai tôi có đi qua đời\n",
      "Thì người ơi tôi đã sống rất tuyệt vời\n",
      "...\"\n"
     ]
    }
   ],
   "source": [
    "with open(\"lab7_Excercise2.txt\", 'w', encoding='utf-8') as new_file:\n",
    "    new_file.write('\"...\\n' \\\n",
    "    'Nếu một mai tôi có bay lên trời\\n' \\\n",
    "    'Thì người ơi tôi đã sống rất thảnh thơi\\n' \\\n",
    "    'Nếu một mai tôi có đi qua đời\\n' \\\n",
    "    'Thì người ơi tôi đã sống rất tuyệt vời\\n' \\\n",
    "    '...\"')\n",
    "\n",
    "with open(\"lab7_Excercise2.txt\", 'r', encoding='utf-8') as f:\n",
    "    print(f.read())"
   ]
  },
  {
   "cell_type": "markdown",
   "id": "0f2483fe",
   "metadata": {},
   "source": [
    "## Lab 7 - Bài 3"
   ]
  },
  {
   "cell_type": "code",
   "execution_count": null,
   "id": "7034990b",
   "metadata": {},
   "outputs": [
    {
     "name": "stdout",
     "output_type": "stream",
     "text": [
      "--- Vui lòng nhập thông tin cho 5 bài thơ ---\n",
      "\n",
      "--- Bài thơ thứ 1 ---\n"
     ]
    }
   ],
   "source": [
    "import csv\n",
    "\n",
    "def input_poem_info():\n",
    "    \"\"\"Hàm để nhập thông tin cho một bài thơ và trả về dưới dạng dictionary.\"\"\"\n",
    "    title = input(\"Nhập tiêu đề: \").strip()\n",
    "    author = input(\"Nhập tác giả: \").strip()\n",
    "    composition_year = input(\"Nhập năm sáng tác: \").strip()\n",
    "    return {\"title\": title, \"author\": author, \"composition_year\": composition_year}\n",
    "\n",
    "poems = []\n",
    "num_poems_to_add = 5\n",
    "\n",
    "print(f\"--- Vui lòng nhập thông tin cho {num_poems_to_add} bài thơ ---\")\n",
    "for i in range(num_poems_to_add):\n",
    "    print(f\"\\n--- Bài thơ thứ {i + 1} ---\")\n",
    "    poem = input_poem_info()\n",
    "    poems.append(poem)\n",
    "    print(\"Đã thêm thành công!\")\n",
    "\n",
    "filename = \"poems.csv\"\n",
    "fields = [\"title\", \"author\", \"composition_year\"]\n",
    "\n",
    "with open(filename, 'w', newline='', encoding='utf-8') as csvfile:\n",
    "    writer = csv.DictWriter(csvfile, fieldnames=fields)\n",
    "    writer.writeheader()\n",
    "    writer.writerows(poems)\n",
    "\n",
    "print(f\"\\nĐã ghi thành công {len(poems)} bài thơ vào file '{filename}'.\")\n"
   ]
  },
  {
   "cell_type": "code",
   "execution_count": null,
   "id": "40025bf6",
   "metadata": {},
   "outputs": [
    {
     "name": "stdout",
     "output_type": "stream",
     "text": [
      "--- Vui lòng nhập thông tin cho 3 bài thơ ---\n",
      "\n",
      "--- Bài thơ thứ 1 ---\n",
      "Đã thêm thành công!\n",
      "\n",
      "--- Bài thơ thứ 2 ---\n",
      "Đã thêm thành công!\n",
      "\n",
      "--- Bài thơ thứ 3 ---\n",
      "Đã thêm thành công!\n",
      "\n",
      "Đã ghi thành công 3 bài thơ vào file 'lab7_excercise3.csv'.\n",
      "\n",
      "Đã ghi thành công 3 bài thơ vào file 'lab7_excercise3.csv'.\n",
      "\n",
      "Đã ghi thành công 3 bài thơ vào file 'lab7_excercise3.csv'.\n",
      "title,author,composition_year\n",
      "Gió,Nhựt,2020\n",
      "Lá,Nhựt,2022\n",
      "Mây,Nhựt,2025\n",
      "\n"
     ]
    }
   ],
   "source": [
    "import os\n",
    "\n",
    "def input_poem_info():\n",
    "    title = input(\"Nhập tiêu đề: \")\n",
    "    author = input(\"Nhập tác giả: \")\n",
    "    composition_year = input(\"Nhập năm sáng tác: \")\n",
    "    return {\"title\": title, \"author\": author, \"composition_year\": composition_year}\n",
    "\n",
    "def add_new_poems(poems:list, num_poems_to_add:int) -> list:\n",
    "    if  num_poems_to_add > 5:\n",
    "        print(f\"Không thể thêm nhiều hơn {num_poems_to_add} cùng lúc!\")\n",
    "        return None\n",
    "    print(f\"--- Vui lòng nhập thông tin cho {num_poems_to_add} bài thơ ---\")\n",
    "    for i in range(num_poems_to_add):\n",
    "        print(f\"\\n--- Bài thơ thứ {i + 1} ---\")\n",
    "        poem = input_poem_info()\n",
    "        poems.append(poem)\n",
    "        print(\"Đã thêm thành công!\")\n",
    "    return poems\n",
    "\n",
    "has_header = False\n",
    "# if os.path.exists(filename):\n",
    "#     with open(filename, 'r', encoding='utf-8') as f:\n",
    "#         first_line = f.readline().strip()\n",
    "#         if first_line == \"title,author,composition_year\":\n",
    "#             has_header = True\n",
    "\n",
    "poems = []\n",
    "num_poems_to_add = int(input(\"Nhập số lượng bài thơ muốn thêm: \"))\n",
    "filename = 'lab7_excercise3.csv'\n",
    "poems = add_new_poems(poems, num_poems_to_add)\n",
    "\n",
    "with open(filename, 'w', encoding='utf-8') as f:\n",
    "    if not has_header:\n",
    "        f.write(\"title,author,composition_year\\n\")\n",
    "    if not poems:\n",
    "        print(\"Không có bài thơ mới nào được thêm!\")\n",
    "    else:\n",
    "        for poem in poems:\n",
    "            title = poem['title']\n",
    "            author = poem['author']\n",
    "            year = poem['composition_year']\n",
    "\n",
    "            line = f\"{title},{author},{year}\\n\"\n",
    "            f.write(line)\n",
    "        print(f\"\\nĐã ghi thành công {len(poems)} bài thơ vào file '{filename}'.\")\n",
    "\n",
    "\n",
    "with open(\"lab7_Excercise3.csv\", 'r', encoding='utf-8') as f:\n",
    "    print(f.read())\n",
    "\n",
    "os.remove(filename)"
   ]
  },
  {
   "cell_type": "markdown",
   "id": "d36ea3d3",
   "metadata": {},
   "source": [
    "## Lab 7 - Bài 4\n",
    "Đọc toàn bộ nội dung từ file lab7_resource.txt, sau đó ghi nội dung vào file theo định dạng xml"
   ]
  },
  {
   "cell_type": "code",
   "execution_count": 2,
   "id": "c1feee89",
   "metadata": {},
   "outputs": [
    {
     "name": "stdout",
     "output_type": "stream",
     "text": [
      "<songs>\n",
      "  <song>\n",
      "    <name>Tự nguyện</name>\n",
      "    <author>Trương Quốc Khánh</author>\n",
      "    <section>Nếu là mây, tôi sẽ là một vầng mây ấm</section>\n",
      "\n",
      "    <section>Là người, tôi sẽ chết cho quê hương.</section>\n",
      "\n",
      "    <section></section>\n",
      "\n",
      "    <section>Là chim, tôi sẽ cất cao đôi cánh mềm</section>\n",
      "\n",
      "    <section>Từ nam ra ngoài bắc báo tin nối liền</section>\n",
      "\n",
      "    <section>Là hoa, tôi nở tình yêu ban sớm</section>\n",
      "\n",
      "    <section>Cùng muôn trái tim ngất ngây hoà bình.</section>\n",
      "\n",
      "    <section></section>\n",
      "\n",
      "    <section>Là mây, theo làn gió tung bay khắp trời</section>\n",
      "\n",
      "    <section>Nghìn xưa oai hùng đó tôi xin tiếp lời</section>\n",
      "\n",
      "    <section>Là người, xin một lần khi nằm xuống</section>\n",
      "\n",
      "    <section>Nhìn anh em đứng lên phất cao ngọn cờ.</section>\n",
      "\n",
      "  </song>\n",
      "</songs>\n"
     ]
    }
   ],
   "source": [
    "import os\n",
    "\n",
    "with open(\"lab7_resource.txt\", 'r', encoding=\"UTF-8\") as f:\n",
    "    name = f.readline().strip()\n",
    "    author = f.readline().strip()\n",
    "    sections = []\n",
    "    for line, content in enumerate(f, start=1):\n",
    "        if line > 2:\n",
    "            section = content.strip()\n",
    "            sections.append(section)\n",
    "\n",
    "with open(\"lab7_Excercise4.xml\", 'w', encoding=\"UTF-8\") as w:\n",
    "    w.write(\"<songs>\\n\")\n",
    "    w.write(\"  <song>\\n\")\n",
    "    w.write(f\"    <name>{name}</name>\\n\")\n",
    "    w.write(f\"    <author>{author}</author>\\n\")\n",
    "    for section in sections:\n",
    "        w.write(f\"    <section>{section}</section>\\n\")\n",
    "        w.write(\"\\n\")\n",
    "    w.write(\"  </song>\\n\")\n",
    "    w.write(\"</songs>\")\n",
    "\n",
    "with open(\"lab7_Excercise4.xml\", 'r', encoding='utf-8') as read_xml:\n",
    "    print(read_xml.read())"
   ]
  },
  {
   "cell_type": "code",
   "execution_count": 31,
   "id": "4c707ec1",
   "metadata": {},
   "outputs": [
    {
     "name": "stdout",
     "output_type": "stream",
     "text": [
      "--- Nhập thông tin cho 2 xe ---\n",
      "Thêm xe thành công!\n",
      "Thêm xe thành công!\n",
      "Đã ghi thành công 2 xe vào file 'fdas.xml'.\n",
      "<cars>\n",
      "<car>\n",
      "<Brand>Toyota</Brand>\n",
      "<Model>Vios</Model>\n",
      "<Year>2016</Year>\n",
      "<Color>red</Color>\n",
      "</car>\n",
      "<car>\n",
      "<Brand>Honda</Brand>\n",
      "<Model>City</Model>\n",
      "<Year>2017</Year>\n",
      "<Color>orange</Color>\n",
      "</car>\n",
      "</cars>\n"
     ]
    }
   ],
   "source": [
    "import os\n",
    "\n",
    "filename = input(\"Nhập tên file: \") + \".xml\"\n",
    "new_car_num  = int(input(\"Nhập số lượng xe mà bạn muốn thêm: \"))\n",
    "\n",
    "def add_new_cars(cars:list, new_car_num: int) -> list:\n",
    "    if new_car_num > 5:\n",
    "        print(f\"Không thể nhập một lúc nhiều hơn {new_car_num} xe\")\n",
    "        return None\n",
    "    print(f\"--- Nhập thông tin cho {new_car_num} xe ---\")\n",
    "    for _ in range(new_car_num):\n",
    "        brand = input(\"Nhập brand: \").strip()\n",
    "        model = input(\"Nhập model: \").strip()\n",
    "        year = int(input(\"Nhập year: \"))\n",
    "        color = input(\"Nhập color: \").strip()\n",
    "        new_car = {\"Brand\": brand, \"Model\": model, \"Year\":year, \"Color\": color}\n",
    "        cars.append(new_car)\n",
    "        print(\"Thêm xe thành công!\")\n",
    "    return cars\n",
    "\n",
    "cars = []\n",
    "cars = add_new_cars(cars, new_car_num)\n",
    "\n",
    "with open(filename, 'w', encoding='utf-8') as xml:\n",
    "    xml.write('<cars>\\n')\n",
    "    for i, car in enumerate(cars):\n",
    "        xml.write('<car>\\n')\n",
    "        xml.write(f'<Brand>{car[\"Brand\"]}</Brand>\\n')\n",
    "        xml.write(f'<Model>{car[\"Model\"]}</Model>\\n')\n",
    "        xml.write(f'<Year>{car[\"Year\"]}</Year>\\n')\n",
    "        xml.write(f'<Color>{car[\"Color\"]}</Color>\\n')\n",
    "        xml.write('</car>\\n')\n",
    "    xml.write('</cars>')\n",
    "    print(f\"Đã ghi thành công {len(cars)} xe vào file '{filename}'.\")\n",
    "\n",
    "with open(filename, 'r', encoding='utf-8') as f:\n",
    "    print(f.read())\n",
    "\n",
    "os.remove(filename)\n",
    "\n",
    "\n",
    "\n"
   ]
  },
  {
   "cell_type": "markdown",
   "id": "e2b41d4a",
   "metadata": {},
   "source": [
    "## Lab 7 - Bài 5: bài tập làm thêm"
   ]
  },
  {
   "cell_type": "code",
   "execution_count": null,
   "id": "0e0172f7",
   "metadata": {},
   "outputs": [],
   "source": []
  }
 ],
 "metadata": {
  "kernelspec": {
   "display_name": "Python 3",
   "language": "python",
   "name": "python3"
  },
  "language_info": {
   "codemirror_mode": {
    "name": "ipython",
    "version": 3
   },
   "file_extension": ".py",
   "mimetype": "text/x-python",
   "name": "python",
   "nbconvert_exporter": "python",
   "pygments_lexer": "ipython3",
   "version": "3.13.7"
  }
 },
 "nbformat": 4,
 "nbformat_minor": 5
}
